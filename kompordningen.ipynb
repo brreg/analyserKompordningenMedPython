{
 "metadata": {
  "language_info": {
   "codemirror_mode": {
    "name": "ipython",
    "version": 3
   },
   "file_extension": ".py",
   "mimetype": "text/x-python",
   "name": "python",
   "nbconvert_exporter": "python",
   "pygments_lexer": "ipython3",
   "version": "3.9.1-final"
  },
  "orig_nbformat": 2,
  "kernelspec": {
   "name": "python3",
   "display_name": "Python 3",
   "language": "python"
  }
 },
 "nbformat": 4,
 "nbformat_minor": 2,
 "cells": [
  {
   "source": [
    "# Analyser data fra kompensasjonsordningen med Python og Pandas\n",
    "\n",
    "I denne notatboken brukes data om tildelinger av støtte fra Kompensasjonsordningen for næringslivet.\n",
    "\n",
    "Dataene ligger som både .json og .csv i dette repositoriet, men inneholder ikke de siste tallene. Vedtak skjer løpende. Oppdaterte data legges ut hver time. Dette repo-et inneholder allerede en kopi av dataene fra mars i år. Ønsker du en oppdatert versjon kan du laste ned med f.eks. curl:\n"
   ],
   "cell_type": "markdown",
   "metadata": {}
  },
  {
   "cell_type": "code",
   "execution_count": null,
   "metadata": {},
   "outputs": [],
   "source": [
    "# JSON\n",
    "%curl https://data.brreg.no/kompensasjonsordning/api/tilskudd/json --output tilskudd.json"
   ]
  },
  {
   "cell_type": "code",
   "execution_count": null,
   "metadata": {},
   "outputs": [],
   "source": [
    "# CSV\n",
    "%curl https://data.brreg.no/kompensasjonsordning/api/tilskudd/csv --output tilskudd.csv"
   ]
  },
  {
   "source": [
    "Steg 0: Installer Pandas\n",
    "\n",
    "Dersom du ikke har gjort det allerede, installer Pandas (men husk den obligatoriske oppgraderingen av pip først). "
   ],
   "cell_type": "markdown",
   "metadata": {}
  },
  {
   "cell_type": "code",
   "execution_count": null,
   "metadata": {},
   "outputs": [],
   "source": [
    "%pip install --upgrade pip\n",
    "%pip install pandas"
   ]
  },
  {
   "source": [
    "Steg 1: Litt info om datasettet\n",
    "\n",
    "Vi starter med å importere pandas, lese inn csv-filen, og få et inntrykk av hva den inneholder. Merk at CSV-fila bruker semikolon som skilletegn.\n",
    "\n",
    "\n"
   ],
   "cell_type": "markdown",
   "metadata": {}
  },
  {
   "cell_type": "code",
   "execution_count": 1,
   "metadata": {},
   "outputs": [
    {
     "output_type": "execute_result",
     "data": {
      "text/plain": [
       "   tilskuddsnummer  tilskuddsmottakerOrganisasjonsnummer  \\\n",
       "0       2021009917                             913686454   \n",
       "1       2021009916                             988237612   \n",
       "2       2021009915                             967265403   \n",
       "3       2021009914                             918718761   \n",
       "4       2021009913                             919965614   \n",
       "\n",
       "           tilskuddsmottakerNavn  kommunenummer       kommune  fylkesnummer  \\\n",
       "0            AKTIV365 SANDSLI AS           4601        BERGEN        4600.0   \n",
       "1  GOLDER ASSOCIATES AS (NORWAY)           3005       DRAMMEN        3000.0   \n",
       "2        ANITA GULBRANDSEN LØKEN           3020  NORDRE FOLLO        3000.0   \n",
       "3         THAI AROMA MASSASJE AS            301          OSLO         300.0   \n",
       "4                    GLH LADE AS           5001     TRONDHEIM        5000.0   \n",
       "\n",
       "                   fylke  naeringskode1  naeringskode2  naeringskode3  \\\n",
       "0               Vestland         93.130            NaN            NaN   \n",
       "1                  Viken         71.129            NaN            NaN   \n",
       "2                  Viken         49.320            NaN            NaN   \n",
       "3                   Oslo         96.040            NaN            NaN   \n",
       "4  Trøndelag Trööndelage         47.599            NaN            NaN   \n",
       "\n",
       "  tilskuddsbelop    tildelingsdato       tilskuddsperiode  \\\n",
       "0      125488,00  2021-03-08T00:00  november-desember2020   \n",
       "1      208706,41  2021-03-08T00:00  november-desember2020   \n",
       "2       15008,28  2021-03-08T00:00  november-desember2020   \n",
       "3        7950,66  2021-03-08T00:00  november-desember2020   \n",
       "4       83134,37  2021-03-08T00:00  september-oktober2020   \n",
       "\n",
       "   sammenligningsperiode sumFasteUungaaeligeKostanderITilskuddsperioden  \\\n",
       "0  november-desember2019                                      327907,57   \n",
       "1  november-desember2019                                      554372,00   \n",
       "2  november-desember2019                                       34995,00   \n",
       "3  november-desember2019                                       24905,00   \n",
       "4  september-oktober2019                                      287994,00   \n",
       "\n",
       "  omsetningITilskuddsperiode omsetningISammenligningsperiode  \\\n",
       "0                  766608,00                      1394409,00   \n",
       "1                 5147270,00                      9239568,00   \n",
       "2                  196945,00                       397509,00   \n",
       "3                   81300,00                       130200,00   \n",
       "4                 2328281,00                      3962232,00   \n",
       "\n",
       "   justeringsfaktor  uavhengigMedsignererOrganisasjonsnummer  \\\n",
       "0              0.85                                988782041   \n",
       "1              0.85                                993606650   \n",
       "2              0.85                                922829845   \n",
       "3              0.85                                913423585   \n",
       "4              0.70                                989271733   \n",
       "\n",
       "  uavhengigMedsignererNavn  \n",
       "0    COLLEGIUM REVISJON AS  \n",
       "1                   BDO AS  \n",
       "2      PARTNER REVISJON AS  \n",
       "3           MYHRERS RTB AS  \n",
       "4                 VEKTE AS  "
      ],
      "text/html": "<div>\n<style scoped>\n    .dataframe tbody tr th:only-of-type {\n        vertical-align: middle;\n    }\n\n    .dataframe tbody tr th {\n        vertical-align: top;\n    }\n\n    .dataframe thead th {\n        text-align: right;\n    }\n</style>\n<table border=\"1\" class=\"dataframe\">\n  <thead>\n    <tr style=\"text-align: right;\">\n      <th></th>\n      <th>tilskuddsnummer</th>\n      <th>tilskuddsmottakerOrganisasjonsnummer</th>\n      <th>tilskuddsmottakerNavn</th>\n      <th>kommunenummer</th>\n      <th>kommune</th>\n      <th>fylkesnummer</th>\n      <th>fylke</th>\n      <th>naeringskode1</th>\n      <th>naeringskode2</th>\n      <th>naeringskode3</th>\n      <th>tilskuddsbelop</th>\n      <th>tildelingsdato</th>\n      <th>tilskuddsperiode</th>\n      <th>sammenligningsperiode</th>\n      <th>sumFasteUungaaeligeKostanderITilskuddsperioden</th>\n      <th>omsetningITilskuddsperiode</th>\n      <th>omsetningISammenligningsperiode</th>\n      <th>justeringsfaktor</th>\n      <th>uavhengigMedsignererOrganisasjonsnummer</th>\n      <th>uavhengigMedsignererNavn</th>\n    </tr>\n  </thead>\n  <tbody>\n    <tr>\n      <th>0</th>\n      <td>2021009917</td>\n      <td>913686454</td>\n      <td>AKTIV365 SANDSLI AS</td>\n      <td>4601</td>\n      <td>BERGEN</td>\n      <td>4600.0</td>\n      <td>Vestland</td>\n      <td>93.130</td>\n      <td>NaN</td>\n      <td>NaN</td>\n      <td>125488,00</td>\n      <td>2021-03-08T00:00</td>\n      <td>november-desember2020</td>\n      <td>november-desember2019</td>\n      <td>327907,57</td>\n      <td>766608,00</td>\n      <td>1394409,00</td>\n      <td>0.85</td>\n      <td>988782041</td>\n      <td>COLLEGIUM REVISJON AS</td>\n    </tr>\n    <tr>\n      <th>1</th>\n      <td>2021009916</td>\n      <td>988237612</td>\n      <td>GOLDER ASSOCIATES AS (NORWAY)</td>\n      <td>3005</td>\n      <td>DRAMMEN</td>\n      <td>3000.0</td>\n      <td>Viken</td>\n      <td>71.129</td>\n      <td>NaN</td>\n      <td>NaN</td>\n      <td>208706,41</td>\n      <td>2021-03-08T00:00</td>\n      <td>november-desember2020</td>\n      <td>november-desember2019</td>\n      <td>554372,00</td>\n      <td>5147270,00</td>\n      <td>9239568,00</td>\n      <td>0.85</td>\n      <td>993606650</td>\n      <td>BDO AS</td>\n    </tr>\n    <tr>\n      <th>2</th>\n      <td>2021009915</td>\n      <td>967265403</td>\n      <td>ANITA GULBRANDSEN LØKEN</td>\n      <td>3020</td>\n      <td>NORDRE FOLLO</td>\n      <td>3000.0</td>\n      <td>Viken</td>\n      <td>49.320</td>\n      <td>NaN</td>\n      <td>NaN</td>\n      <td>15008,28</td>\n      <td>2021-03-08T00:00</td>\n      <td>november-desember2020</td>\n      <td>november-desember2019</td>\n      <td>34995,00</td>\n      <td>196945,00</td>\n      <td>397509,00</td>\n      <td>0.85</td>\n      <td>922829845</td>\n      <td>PARTNER REVISJON AS</td>\n    </tr>\n    <tr>\n      <th>3</th>\n      <td>2021009914</td>\n      <td>918718761</td>\n      <td>THAI AROMA MASSASJE AS</td>\n      <td>301</td>\n      <td>OSLO</td>\n      <td>300.0</td>\n      <td>Oslo</td>\n      <td>96.040</td>\n      <td>NaN</td>\n      <td>NaN</td>\n      <td>7950,66</td>\n      <td>2021-03-08T00:00</td>\n      <td>november-desember2020</td>\n      <td>november-desember2019</td>\n      <td>24905,00</td>\n      <td>81300,00</td>\n      <td>130200,00</td>\n      <td>0.85</td>\n      <td>913423585</td>\n      <td>MYHRERS RTB AS</td>\n    </tr>\n    <tr>\n      <th>4</th>\n      <td>2021009913</td>\n      <td>919965614</td>\n      <td>GLH LADE AS</td>\n      <td>5001</td>\n      <td>TRONDHEIM</td>\n      <td>5000.0</td>\n      <td>Trøndelag Trööndelage</td>\n      <td>47.599</td>\n      <td>NaN</td>\n      <td>NaN</td>\n      <td>83134,37</td>\n      <td>2021-03-08T00:00</td>\n      <td>september-oktober2020</td>\n      <td>september-oktober2019</td>\n      <td>287994,00</td>\n      <td>2328281,00</td>\n      <td>3962232,00</td>\n      <td>0.70</td>\n      <td>989271733</td>\n      <td>VEKTE AS</td>\n    </tr>\n  </tbody>\n</table>\n</div>"
     },
     "metadata": {},
     "execution_count": 1
    }
   ],
   "source": [
    "import pandas as pd\n",
    "\n",
    "df = pd.read_csv('tilskudd.csv', sep=';')\n",
    "df.head()\n"
   ]
  },
  {
   "cell_type": "code",
   "execution_count": null,
   "metadata": {},
   "outputs": [],
   "source": [
    "Vi kan også få et uttrekk av helt tilfeldige rader, istedenfor bare de første, ved hjelp av sample(n) der n er antall rader:"
   ]
  },
  {
   "cell_type": "code",
   "execution_count": 3,
   "metadata": {},
   "outputs": [
    {
     "output_type": "execute_result",
     "data": {
      "text/plain": [
       "      tilskuddsnummer  tilskuddsmottakerOrganisasjonsnummer  \\\n",
       "4418       2021005084                             916945825   \n",
       "2115       2021007553                             918872434   \n",
       "7047       2021002222                             921334664   \n",
       "7540       2021001681                             988225835   \n",
       "6213       2021003126                             993788406   \n",
       "715        2021009126                             917118167   \n",
       "6040       2021003317                             815590872   \n",
       "8882       2021000190                             913570073   \n",
       "1814       2021007906                             998248175   \n",
       "3843       2021005699                             982480582   \n",
       "\n",
       "                tilskuddsmottakerNavn  kommunenummer    kommune  fylkesnummer  \\\n",
       "4418         BASTIANSEN CONSULTING AS           1103  STAVANGER        1100.0   \n",
       "2115            CATERING INNLANDET AS           3411  RINGSAKER        3400.0   \n",
       "7047                     MINCHEV TAXI           3025      ASKER        3000.0   \n",
       "7540                      JAFFAR RAZA           3029  LØRENSKOG        3000.0   \n",
       "6213              FOKA ENTREPRENØR AS           3029  LØRENSKOG        3000.0   \n",
       "715                        JÆR TRE AS           1119         HÅ        1100.0   \n",
       "6040                BULJONGGRUPPEN AS            301       OSLO         300.0   \n",
       "8882     JULEBYGDA ENGROS & IMPORT AS           1108    SANDNES        1100.0   \n",
       "1814                   LOTUS DRIFT AS            301       OSLO         300.0   \n",
       "3843  AKTIV FYSIOTERAPI OG TRENING AS           3025      ASKER        3000.0   \n",
       "\n",
       "          fylke  naeringskode1  naeringskode2  naeringskode3 tilskuddsbelop  \\\n",
       "4418   Rogaland         70.220            NaN            NaN       23279,59   \n",
       "2115  Innlandet         56.210            NaN            NaN        9234,02   \n",
       "7047      Viken         49.320            NaN            NaN       12182,64   \n",
       "7540      Viken         49.320            NaN            NaN        7502,42   \n",
       "6213      Viken         42.130            NaN            NaN      118487,31   \n",
       "715    Rogaland         41.200            NaN            NaN       42947,87   \n",
       "6040       Oslo         56.101            NaN            NaN      483438,77   \n",
       "8882   Rogaland         46.499            NaN            NaN      166429,01   \n",
       "1814       Oslo         56.101            NaN            NaN       63002,22   \n",
       "3843      Viken         93.130            NaN            NaN       37230,59   \n",
       "\n",
       "        tildelingsdato       tilskuddsperiode  sammenligningsperiode  \\\n",
       "4418  2021-02-05T00:00  november-desember2020  november-desember2019   \n",
       "2115  2021-02-22T00:00  november-desember2020  november-desember2019   \n",
       "7047  2021-01-25T00:00  september-oktober2020  september-oktober2019   \n",
       "7540  2021-01-22T00:00  november-desember2020  november-desember2019   \n",
       "6213  2021-01-27T00:00  september-oktober2020  september-oktober2019   \n",
       "715   2021-03-03T00:00  september-oktober2020  september-oktober2019   \n",
       "6040  2021-01-28T00:00  november-desember2020  november-desember2019   \n",
       "8882  2021-01-18T00:00  november-desember2020  november-desember2019   \n",
       "1814  2021-02-23T00:00  september-oktober2020  september-oktober2019   \n",
       "3843  2021-02-10T00:00  september-oktober2020  september-oktober2019   \n",
       "\n",
       "     sumFasteUungaaeligeKostanderITilskuddsperioden  \\\n",
       "4418                                       28809,00   \n",
       "2115                                       14855,00   \n",
       "7047                                       21659,00   \n",
       "7540                                       12682,00   \n",
       "6213                                      210813,00   \n",
       "715                                       143112,00   \n",
       "6040                                      604971,00   \n",
       "8882                                      336345,00   \n",
       "1814                                      268427,00   \n",
       "3843                                      170715,00   \n",
       "\n",
       "     omsetningITilskuddsperiode omsetningISammenligningsperiode  \\\n",
       "4418                   18500,00                       375000,00   \n",
       "2115                   95441,00                       355203,00   \n",
       "7047                   23386,00                       119034,00   \n",
       "7540                  157573,00                       518292,00   \n",
       "6213                  596565,00                      3027137,00   \n",
       "715                  2152529,00                      3767865,00   \n",
       "6040                  311599,00                      5204608,00   \n",
       "8882                 2265864,00                      5422503,00   \n",
       "1814                 1323634,00                      1991321,00   \n",
       "3843                  493848,00                       717335,00   \n",
       "\n",
       "      justeringsfaktor  uavhengigMedsignererOrganisasjonsnummer  \\\n",
       "4418              0.85                                975378012   \n",
       "2115              0.85                                985282013   \n",
       "7047              0.70                                913097300   \n",
       "7540              0.85                                937416873   \n",
       "6213              0.70                                913191560   \n",
       "715               0.70                                993606650   \n",
       "6040              0.85                                998485304   \n",
       "8882              0.85                                982316588   \n",
       "1814              0.70                                998750881   \n",
       "3843              0.70                                998013593   \n",
       "\n",
       "               uavhengigMedsignererNavn  \n",
       "4418              BOKHOLDERIET HINNA AS  \n",
       "2115                    DALA ØKONOMI AS  \n",
       "7047                    ABE REGNSKAP AS  \n",
       "7540  ADMINISTRATIV REGNSKAPSSERVICE AS  \n",
       "6213              LØRENSKOG REGNSKAP AS  \n",
       "715                              BDO AS  \n",
       "6040                  ASR ACCOUNTING AS  \n",
       "8882                       RSM NORGE AS  \n",
       "1814                     MT REGNSKAP AS  \n",
       "3843                    LOS REGNSKAP AS  "
      ],
      "text/html": "<div>\n<style scoped>\n    .dataframe tbody tr th:only-of-type {\n        vertical-align: middle;\n    }\n\n    .dataframe tbody tr th {\n        vertical-align: top;\n    }\n\n    .dataframe thead th {\n        text-align: right;\n    }\n</style>\n<table border=\"1\" class=\"dataframe\">\n  <thead>\n    <tr style=\"text-align: right;\">\n      <th></th>\n      <th>tilskuddsnummer</th>\n      <th>tilskuddsmottakerOrganisasjonsnummer</th>\n      <th>tilskuddsmottakerNavn</th>\n      <th>kommunenummer</th>\n      <th>kommune</th>\n      <th>fylkesnummer</th>\n      <th>fylke</th>\n      <th>naeringskode1</th>\n      <th>naeringskode2</th>\n      <th>naeringskode3</th>\n      <th>tilskuddsbelop</th>\n      <th>tildelingsdato</th>\n      <th>tilskuddsperiode</th>\n      <th>sammenligningsperiode</th>\n      <th>sumFasteUungaaeligeKostanderITilskuddsperioden</th>\n      <th>omsetningITilskuddsperiode</th>\n      <th>omsetningISammenligningsperiode</th>\n      <th>justeringsfaktor</th>\n      <th>uavhengigMedsignererOrganisasjonsnummer</th>\n      <th>uavhengigMedsignererNavn</th>\n    </tr>\n  </thead>\n  <tbody>\n    <tr>\n      <th>4418</th>\n      <td>2021005084</td>\n      <td>916945825</td>\n      <td>BASTIANSEN CONSULTING AS</td>\n      <td>1103</td>\n      <td>STAVANGER</td>\n      <td>1100.0</td>\n      <td>Rogaland</td>\n      <td>70.220</td>\n      <td>NaN</td>\n      <td>NaN</td>\n      <td>23279,59</td>\n      <td>2021-02-05T00:00</td>\n      <td>november-desember2020</td>\n      <td>november-desember2019</td>\n      <td>28809,00</td>\n      <td>18500,00</td>\n      <td>375000,00</td>\n      <td>0.85</td>\n      <td>975378012</td>\n      <td>BOKHOLDERIET HINNA AS</td>\n    </tr>\n    <tr>\n      <th>2115</th>\n      <td>2021007553</td>\n      <td>918872434</td>\n      <td>CATERING INNLANDET AS</td>\n      <td>3411</td>\n      <td>RINGSAKER</td>\n      <td>3400.0</td>\n      <td>Innlandet</td>\n      <td>56.210</td>\n      <td>NaN</td>\n      <td>NaN</td>\n      <td>9234,02</td>\n      <td>2021-02-22T00:00</td>\n      <td>november-desember2020</td>\n      <td>november-desember2019</td>\n      <td>14855,00</td>\n      <td>95441,00</td>\n      <td>355203,00</td>\n      <td>0.85</td>\n      <td>985282013</td>\n      <td>DALA ØKONOMI AS</td>\n    </tr>\n    <tr>\n      <th>7047</th>\n      <td>2021002222</td>\n      <td>921334664</td>\n      <td>MINCHEV TAXI</td>\n      <td>3025</td>\n      <td>ASKER</td>\n      <td>3000.0</td>\n      <td>Viken</td>\n      <td>49.320</td>\n      <td>NaN</td>\n      <td>NaN</td>\n      <td>12182,64</td>\n      <td>2021-01-25T00:00</td>\n      <td>september-oktober2020</td>\n      <td>september-oktober2019</td>\n      <td>21659,00</td>\n      <td>23386,00</td>\n      <td>119034,00</td>\n      <td>0.70</td>\n      <td>913097300</td>\n      <td>ABE REGNSKAP AS</td>\n    </tr>\n    <tr>\n      <th>7540</th>\n      <td>2021001681</td>\n      <td>988225835</td>\n      <td>JAFFAR RAZA</td>\n      <td>3029</td>\n      <td>LØRENSKOG</td>\n      <td>3000.0</td>\n      <td>Viken</td>\n      <td>49.320</td>\n      <td>NaN</td>\n      <td>NaN</td>\n      <td>7502,42</td>\n      <td>2021-01-22T00:00</td>\n      <td>november-desember2020</td>\n      <td>november-desember2019</td>\n      <td>12682,00</td>\n      <td>157573,00</td>\n      <td>518292,00</td>\n      <td>0.85</td>\n      <td>937416873</td>\n      <td>ADMINISTRATIV REGNSKAPSSERVICE AS</td>\n    </tr>\n    <tr>\n      <th>6213</th>\n      <td>2021003126</td>\n      <td>993788406</td>\n      <td>FOKA ENTREPRENØR AS</td>\n      <td>3029</td>\n      <td>LØRENSKOG</td>\n      <td>3000.0</td>\n      <td>Viken</td>\n      <td>42.130</td>\n      <td>NaN</td>\n      <td>NaN</td>\n      <td>118487,31</td>\n      <td>2021-01-27T00:00</td>\n      <td>september-oktober2020</td>\n      <td>september-oktober2019</td>\n      <td>210813,00</td>\n      <td>596565,00</td>\n      <td>3027137,00</td>\n      <td>0.70</td>\n      <td>913191560</td>\n      <td>LØRENSKOG REGNSKAP AS</td>\n    </tr>\n    <tr>\n      <th>715</th>\n      <td>2021009126</td>\n      <td>917118167</td>\n      <td>JÆR TRE AS</td>\n      <td>1119</td>\n      <td>HÅ</td>\n      <td>1100.0</td>\n      <td>Rogaland</td>\n      <td>41.200</td>\n      <td>NaN</td>\n      <td>NaN</td>\n      <td>42947,87</td>\n      <td>2021-03-03T00:00</td>\n      <td>september-oktober2020</td>\n      <td>september-oktober2019</td>\n      <td>143112,00</td>\n      <td>2152529,00</td>\n      <td>3767865,00</td>\n      <td>0.70</td>\n      <td>993606650</td>\n      <td>BDO AS</td>\n    </tr>\n    <tr>\n      <th>6040</th>\n      <td>2021003317</td>\n      <td>815590872</td>\n      <td>BULJONGGRUPPEN AS</td>\n      <td>301</td>\n      <td>OSLO</td>\n      <td>300.0</td>\n      <td>Oslo</td>\n      <td>56.101</td>\n      <td>NaN</td>\n      <td>NaN</td>\n      <td>483438,77</td>\n      <td>2021-01-28T00:00</td>\n      <td>november-desember2020</td>\n      <td>november-desember2019</td>\n      <td>604971,00</td>\n      <td>311599,00</td>\n      <td>5204608,00</td>\n      <td>0.85</td>\n      <td>998485304</td>\n      <td>ASR ACCOUNTING AS</td>\n    </tr>\n    <tr>\n      <th>8882</th>\n      <td>2021000190</td>\n      <td>913570073</td>\n      <td>JULEBYGDA ENGROS &amp; IMPORT AS</td>\n      <td>1108</td>\n      <td>SANDNES</td>\n      <td>1100.0</td>\n      <td>Rogaland</td>\n      <td>46.499</td>\n      <td>NaN</td>\n      <td>NaN</td>\n      <td>166429,01</td>\n      <td>2021-01-18T00:00</td>\n      <td>november-desember2020</td>\n      <td>november-desember2019</td>\n      <td>336345,00</td>\n      <td>2265864,00</td>\n      <td>5422503,00</td>\n      <td>0.85</td>\n      <td>982316588</td>\n      <td>RSM NORGE AS</td>\n    </tr>\n    <tr>\n      <th>1814</th>\n      <td>2021007906</td>\n      <td>998248175</td>\n      <td>LOTUS DRIFT AS</td>\n      <td>301</td>\n      <td>OSLO</td>\n      <td>300.0</td>\n      <td>Oslo</td>\n      <td>56.101</td>\n      <td>NaN</td>\n      <td>NaN</td>\n      <td>63002,22</td>\n      <td>2021-02-23T00:00</td>\n      <td>september-oktober2020</td>\n      <td>september-oktober2019</td>\n      <td>268427,00</td>\n      <td>1323634,00</td>\n      <td>1991321,00</td>\n      <td>0.70</td>\n      <td>998750881</td>\n      <td>MT REGNSKAP AS</td>\n    </tr>\n    <tr>\n      <th>3843</th>\n      <td>2021005699</td>\n      <td>982480582</td>\n      <td>AKTIV FYSIOTERAPI OG TRENING AS</td>\n      <td>3025</td>\n      <td>ASKER</td>\n      <td>3000.0</td>\n      <td>Viken</td>\n      <td>93.130</td>\n      <td>NaN</td>\n      <td>NaN</td>\n      <td>37230,59</td>\n      <td>2021-02-10T00:00</td>\n      <td>september-oktober2020</td>\n      <td>september-oktober2019</td>\n      <td>170715,00</td>\n      <td>493848,00</td>\n      <td>717335,00</td>\n      <td>0.70</td>\n      <td>998013593</td>\n      <td>LOS REGNSKAP AS</td>\n    </tr>\n  </tbody>\n</table>\n</div>"
     },
     "metadata": {},
     "execution_count": 3
    }
   ],
   "source": [
    "df.sample(10)"
   ]
  },
  {
   "source": [
    "Vi ser at ... osv ...\n",
    "\n",
    "Siden tabellen er så bred, kan det også være nyttig å bruke columns for å få en liste over alle kolonnenavnene:\n"
   ],
   "cell_type": "markdown",
   "metadata": {}
  },
  {
   "cell_type": "code",
   "execution_count": 5,
   "metadata": {},
   "outputs": [
    {
     "output_type": "execute_result",
     "data": {
      "text/plain": [
       "Index(['tilskuddsnummer', 'tilskuddsmottakerOrganisasjonsnummer',\n",
       "       'tilskuddsmottakerNavn', 'kommunenummer', 'kommune', 'fylkesnummer',\n",
       "       'fylke', 'naeringskode1', 'naeringskode2', 'naeringskode3',\n",
       "       'tilskuddsbelop', 'tildelingsdato', 'tilskuddsperiode',\n",
       "       'sammenligningsperiode',\n",
       "       'sumFasteUungaaeligeKostanderITilskuddsperioden',\n",
       "       'omsetningITilskuddsperiode', 'omsetningISammenligningsperiode',\n",
       "       'justeringsfaktor', 'uavhengigMedsignererOrganisasjonsnummer',\n",
       "       'uavhengigMedsignererNavn'],\n",
       "      dtype='object')"
      ]
     },
     "metadata": {},
     "execution_count": 5
    }
   ],
   "source": [
    "df.columns"
   ]
  },
  {
   "source": [
    "Pandas har funksjon for å gi en rask oppsummering av noen statistiske egenskaper ved dataene i en dataframe, gjennom describe(). Da får vi blant annet antall verdier, median, minimum, maximum og gjennomsnitt (50 %-verdien):"
   ],
   "cell_type": "markdown",
   "metadata": {}
  },
  {
   "cell_type": "code",
   "execution_count": 2,
   "metadata": {},
   "outputs": [
    {
     "output_type": "execute_result",
     "data": {
      "text/plain": [
       "       tilskuddsnummer  tilskuddsmottakerOrganisasjonsnummer  kommunenummer  \\\n",
       "count     9.048000e+03                          9.048000e+03    9048.000000   \n",
       "mean      2.021005e+09                          9.481143e+08    2662.386273   \n",
       "std       2.847589e+03                          4.406056e+07    1772.681531   \n",
       "min       2.021000e+09                          8.116188e+08     301.000000   \n",
       "25%       2.021003e+09                          9.168709e+08    1103.000000   \n",
       "50%       2.021005e+09                          9.579039e+08    3024.000000   \n",
       "75%       2.021007e+09                          9.880344e+08    4601.000000   \n",
       "max       2.021010e+09                          9.996654e+08    5444.000000   \n",
       "\n",
       "       fylkesnummer  naeringskode1  naeringskode2  naeringskode3  \\\n",
       "count   9012.000000    9048.000000     244.000000       9.000000   \n",
       "mean    2651.364847      58.102011      54.737045      48.966889   \n",
       "std     1772.489596      17.751790      22.596203      29.426245   \n",
       "min      300.000000       0.000000       0.000000      10.710000   \n",
       "25%     1100.000000      49.320000      47.285250      15.200000   \n",
       "50%     3000.000000      56.101000      55.202000      55.202000   \n",
       "75%     4600.000000      70.220000      70.100000      78.200000   \n",
       "max     5400.000000      96.090000      96.020000      79.909000   \n",
       "\n",
       "       justeringsfaktor  uavhengigMedsignererOrganisasjonsnummer  \n",
       "count       9048.000000                             9.048000e+03  \n",
       "mean           0.789838                             9.544368e+08  \n",
       "std            0.073522                             4.161825e+07  \n",
       "min            0.700000                             8.121884e+08  \n",
       "25%            0.700000                             9.206667e+08  \n",
       "50%            0.850000                             9.744623e+08  \n",
       "75%            0.850000                             9.875649e+08  \n",
       "max            0.850000                             9.996475e+08  "
      ],
      "text/html": "<div>\n<style scoped>\n    .dataframe tbody tr th:only-of-type {\n        vertical-align: middle;\n    }\n\n    .dataframe tbody tr th {\n        vertical-align: top;\n    }\n\n    .dataframe thead th {\n        text-align: right;\n    }\n</style>\n<table border=\"1\" class=\"dataframe\">\n  <thead>\n    <tr style=\"text-align: right;\">\n      <th></th>\n      <th>tilskuddsnummer</th>\n      <th>tilskuddsmottakerOrganisasjonsnummer</th>\n      <th>kommunenummer</th>\n      <th>fylkesnummer</th>\n      <th>naeringskode1</th>\n      <th>naeringskode2</th>\n      <th>naeringskode3</th>\n      <th>justeringsfaktor</th>\n      <th>uavhengigMedsignererOrganisasjonsnummer</th>\n    </tr>\n  </thead>\n  <tbody>\n    <tr>\n      <th>count</th>\n      <td>9.048000e+03</td>\n      <td>9.048000e+03</td>\n      <td>9048.000000</td>\n      <td>9012.000000</td>\n      <td>9048.000000</td>\n      <td>244.000000</td>\n      <td>9.000000</td>\n      <td>9048.000000</td>\n      <td>9.048000e+03</td>\n    </tr>\n    <tr>\n      <th>mean</th>\n      <td>2.021005e+09</td>\n      <td>9.481143e+08</td>\n      <td>2662.386273</td>\n      <td>2651.364847</td>\n      <td>58.102011</td>\n      <td>54.737045</td>\n      <td>48.966889</td>\n      <td>0.789838</td>\n      <td>9.544368e+08</td>\n    </tr>\n    <tr>\n      <th>std</th>\n      <td>2.847589e+03</td>\n      <td>4.406056e+07</td>\n      <td>1772.681531</td>\n      <td>1772.489596</td>\n      <td>17.751790</td>\n      <td>22.596203</td>\n      <td>29.426245</td>\n      <td>0.073522</td>\n      <td>4.161825e+07</td>\n    </tr>\n    <tr>\n      <th>min</th>\n      <td>2.021000e+09</td>\n      <td>8.116188e+08</td>\n      <td>301.000000</td>\n      <td>300.000000</td>\n      <td>0.000000</td>\n      <td>0.000000</td>\n      <td>10.710000</td>\n      <td>0.700000</td>\n      <td>8.121884e+08</td>\n    </tr>\n    <tr>\n      <th>25%</th>\n      <td>2.021003e+09</td>\n      <td>9.168709e+08</td>\n      <td>1103.000000</td>\n      <td>1100.000000</td>\n      <td>49.320000</td>\n      <td>47.285250</td>\n      <td>15.200000</td>\n      <td>0.700000</td>\n      <td>9.206667e+08</td>\n    </tr>\n    <tr>\n      <th>50%</th>\n      <td>2.021005e+09</td>\n      <td>9.579039e+08</td>\n      <td>3024.000000</td>\n      <td>3000.000000</td>\n      <td>56.101000</td>\n      <td>55.202000</td>\n      <td>55.202000</td>\n      <td>0.850000</td>\n      <td>9.744623e+08</td>\n    </tr>\n    <tr>\n      <th>75%</th>\n      <td>2.021007e+09</td>\n      <td>9.880344e+08</td>\n      <td>4601.000000</td>\n      <td>4600.000000</td>\n      <td>70.220000</td>\n      <td>70.100000</td>\n      <td>78.200000</td>\n      <td>0.850000</td>\n      <td>9.875649e+08</td>\n    </tr>\n    <tr>\n      <th>max</th>\n      <td>2.021010e+09</td>\n      <td>9.996654e+08</td>\n      <td>5444.000000</td>\n      <td>5400.000000</td>\n      <td>96.090000</td>\n      <td>96.020000</td>\n      <td>79.909000</td>\n      <td>0.850000</td>\n      <td>9.996475e+08</td>\n    </tr>\n  </tbody>\n</table>\n</div>"
     },
     "metadata": {},
     "execution_count": 2
    }
   ],
   "source": [
    "df.describe()"
   ]
  },
  {
   "source": [
    "Men her ser vi at det som det er mest interessant å få frem verdier på er ikke med, for eksempel beløpene for tilskudd og omsetningstall. Det skyldes at disse verdiene leses inn som tekst istedenfor tall, pga komma som desimaltegn. Til gjengjeld får vi masse statistiske verdier for numre som er identifikatorer og ikke tall, f.eks. organisasjonsnummer, næringskode, kommunenummer. For å bekrefte det kan vi se nærmere på en enkelt kolonne, og se hvilken type (dtype) den har:\n"
   ],
   "cell_type": "markdown",
   "metadata": {}
  },
  {
   "cell_type": "code",
   "execution_count": 8,
   "metadata": {},
   "outputs": [
    {
     "output_type": "execute_result",
     "data": {
      "text/plain": [
       "0       125488,00\n",
       "1       208706,41\n",
       "2        15008,28\n",
       "3         7950,66\n",
       "4        83134,37\n",
       "          ...    \n",
       "9043     20367,53\n",
       "9044     56709,39\n",
       "9045      9844,00\n",
       "9046     11624,90\n",
       "9047    156339,75\n",
       "Name: tilskuddsbelop, Length: 9048, dtype: object"
      ]
     },
     "metadata": {},
     "execution_count": 8
    }
   ],
   "source": [
    "df['tilskuddsbelop']\n"
   ]
  },
  {
   "cell_type": "code",
   "execution_count": 9,
   "metadata": {},
   "outputs": [
    {
     "output_type": "execute_result",
     "data": {
      "text/plain": [
       "0       2021009917\n",
       "1       2021009916\n",
       "2       2021009915\n",
       "3       2021009914\n",
       "4       2021009913\n",
       "           ...    \n",
       "9043    2021000008\n",
       "9044    2021000007\n",
       "9045    2021000006\n",
       "9046    2021000005\n",
       "9047    2021000004\n",
       "Name: tilskuddsnummer, Length: 9048, dtype: int64"
      ]
     },
     "metadata": {},
     "execution_count": 9
    }
   ],
   "source": [
    "df['tilskuddsnummer']"
   ]
  },
  {
   "source": [
    "Beløp er altså den generelle \"object\"-typen mens identifikatoren tilskuddsnummer er tall (int64)"
   ],
   "cell_type": "markdown",
   "metadata": {}
  },
  {
   "source": [
    "Årsaken til at beløp blir tekst er at desimalskilletegnet i Pandas er punktum, mens vi bruker komma i Norge. Så for ved å presisere dette når vi leser inn Excel-fila igjen kan vi få rettet opp noen av datatypene:"
   ],
   "cell_type": "markdown",
   "metadata": {}
  },
  {
   "cell_type": "code",
   "execution_count": 11,
   "metadata": {},
   "outputs": [],
   "source": [
    "df = pd.read_csv('tilskudd.csv', sep=';', decimal=',')\n"
   ]
  },
  {
   "cell_type": "code",
   "execution_count": 12,
   "metadata": {},
   "outputs": [
    {
     "output_type": "execute_result",
     "data": {
      "text/plain": [
       "       tilskuddsnummer  tilskuddsmottakerOrganisasjonsnummer  kommunenummer  \\\n",
       "count     9.048000e+03                          9.048000e+03    9048.000000   \n",
       "mean      2.021005e+09                          9.481143e+08    2662.386273   \n",
       "std       2.847589e+03                          4.406056e+07    1772.681531   \n",
       "min       2.021000e+09                          8.116188e+08     301.000000   \n",
       "25%       2.021003e+09                          9.168709e+08    1103.000000   \n",
       "50%       2.021005e+09                          9.579039e+08    3024.000000   \n",
       "75%       2.021007e+09                          9.880344e+08    4601.000000   \n",
       "max       2.021010e+09                          9.996654e+08    5444.000000   \n",
       "\n",
       "       fylkesnummer  tilskuddsbelop  \\\n",
       "count   9012.000000    9.048000e+03   \n",
       "mean    2651.364847    1.910668e+05   \n",
       "std     1772.489596    2.037838e+06   \n",
       "min      300.000000    5.000340e+03   \n",
       "25%     1100.000000    1.718204e+04   \n",
       "50%     3000.000000    4.043306e+04   \n",
       "75%     4600.000000    1.023590e+05   \n",
       "max     5400.000000    8.188874e+07   \n",
       "\n",
       "       sumFasteUungaaeligeKostanderITilskuddsperioden  \\\n",
       "count                                    9.048000e+03   \n",
       "mean                                     4.228766e+05   \n",
       "std                                      4.467720e+06   \n",
       "min                                      6.410000e+03   \n",
       "25%                                      4.087875e+04   \n",
       "50%                                      9.759950e+04   \n",
       "75%                                      2.405640e+05   \n",
       "max                                      1.918143e+08   \n",
       "\n",
       "       omsetningITilskuddsperiode  omsetningISammenligningsperiode  \\\n",
       "count                9.048000e+03                     9.048000e+03   \n",
       "mean                 1.433093e+06                     1.424610e+07   \n",
       "std                  8.715873e+06                     1.013714e+09   \n",
       "min                  0.000000e+00                     6.000000e+03   \n",
       "25%                  1.117474e+05                     3.516660e+05   \n",
       "50%                  3.093570e+05                     9.054335e+05   \n",
       "75%                  9.022215e+05                     2.425666e+06   \n",
       "max                  4.146793e+08                     9.640463e+10   \n",
       "\n",
       "       uavhengigMedsignererOrganisasjonsnummer  \n",
       "count                             9.048000e+03  \n",
       "mean                              9.544368e+08  \n",
       "std                               4.161825e+07  \n",
       "min                               8.121884e+08  \n",
       "25%                               9.206667e+08  \n",
       "50%                               9.744623e+08  \n",
       "75%                               9.875649e+08  \n",
       "max                               9.996475e+08  "
      ],
      "text/html": "<div>\n<style scoped>\n    .dataframe tbody tr th:only-of-type {\n        vertical-align: middle;\n    }\n\n    .dataframe tbody tr th {\n        vertical-align: top;\n    }\n\n    .dataframe thead th {\n        text-align: right;\n    }\n</style>\n<table border=\"1\" class=\"dataframe\">\n  <thead>\n    <tr style=\"text-align: right;\">\n      <th></th>\n      <th>tilskuddsnummer</th>\n      <th>tilskuddsmottakerOrganisasjonsnummer</th>\n      <th>kommunenummer</th>\n      <th>fylkesnummer</th>\n      <th>tilskuddsbelop</th>\n      <th>sumFasteUungaaeligeKostanderITilskuddsperioden</th>\n      <th>omsetningITilskuddsperiode</th>\n      <th>omsetningISammenligningsperiode</th>\n      <th>uavhengigMedsignererOrganisasjonsnummer</th>\n    </tr>\n  </thead>\n  <tbody>\n    <tr>\n      <th>count</th>\n      <td>9.048000e+03</td>\n      <td>9.048000e+03</td>\n      <td>9048.000000</td>\n      <td>9012.000000</td>\n      <td>9.048000e+03</td>\n      <td>9.048000e+03</td>\n      <td>9.048000e+03</td>\n      <td>9.048000e+03</td>\n      <td>9.048000e+03</td>\n    </tr>\n    <tr>\n      <th>mean</th>\n      <td>2.021005e+09</td>\n      <td>9.481143e+08</td>\n      <td>2662.386273</td>\n      <td>2651.364847</td>\n      <td>1.910668e+05</td>\n      <td>4.228766e+05</td>\n      <td>1.433093e+06</td>\n      <td>1.424610e+07</td>\n      <td>9.544368e+08</td>\n    </tr>\n    <tr>\n      <th>std</th>\n      <td>2.847589e+03</td>\n      <td>4.406056e+07</td>\n      <td>1772.681531</td>\n      <td>1772.489596</td>\n      <td>2.037838e+06</td>\n      <td>4.467720e+06</td>\n      <td>8.715873e+06</td>\n      <td>1.013714e+09</td>\n      <td>4.161825e+07</td>\n    </tr>\n    <tr>\n      <th>min</th>\n      <td>2.021000e+09</td>\n      <td>8.116188e+08</td>\n      <td>301.000000</td>\n      <td>300.000000</td>\n      <td>5.000340e+03</td>\n      <td>6.410000e+03</td>\n      <td>0.000000e+00</td>\n      <td>6.000000e+03</td>\n      <td>8.121884e+08</td>\n    </tr>\n    <tr>\n      <th>25%</th>\n      <td>2.021003e+09</td>\n      <td>9.168709e+08</td>\n      <td>1103.000000</td>\n      <td>1100.000000</td>\n      <td>1.718204e+04</td>\n      <td>4.087875e+04</td>\n      <td>1.117474e+05</td>\n      <td>3.516660e+05</td>\n      <td>9.206667e+08</td>\n    </tr>\n    <tr>\n      <th>50%</th>\n      <td>2.021005e+09</td>\n      <td>9.579039e+08</td>\n      <td>3024.000000</td>\n      <td>3000.000000</td>\n      <td>4.043306e+04</td>\n      <td>9.759950e+04</td>\n      <td>3.093570e+05</td>\n      <td>9.054335e+05</td>\n      <td>9.744623e+08</td>\n    </tr>\n    <tr>\n      <th>75%</th>\n      <td>2.021007e+09</td>\n      <td>9.880344e+08</td>\n      <td>4601.000000</td>\n      <td>4600.000000</td>\n      <td>1.023590e+05</td>\n      <td>2.405640e+05</td>\n      <td>9.022215e+05</td>\n      <td>2.425666e+06</td>\n      <td>9.875649e+08</td>\n    </tr>\n    <tr>\n      <th>max</th>\n      <td>2.021010e+09</td>\n      <td>9.996654e+08</td>\n      <td>5444.000000</td>\n      <td>5400.000000</td>\n      <td>8.188874e+07</td>\n      <td>1.918143e+08</td>\n      <td>4.146793e+08</td>\n      <td>9.640463e+10</td>\n      <td>9.996475e+08</td>\n    </tr>\n  </tbody>\n</table>\n</div>"
     },
     "metadata": {},
     "execution_count": 12
    }
   ],
   "source": [
    "df.describe()"
   ]
  },
  {
   "source": [
    "Nå ser vi at beløpene er blitt tall, og til gjengjeld er næringskodene ikke lenger tall. Det hjalp litt. I tillegg kan vi endre datatypen til de ulike numrene.\n",
    "[TODO]"
   ],
   "cell_type": "markdown",
   "metadata": {}
  },
  {
   "cell_type": "code",
   "execution_count": 13,
   "metadata": {},
   "outputs": [
    {
     "output_type": "execute_result",
     "data": {
      "text/plain": [
       "0       125488.00\n",
       "1       208706.41\n",
       "2        15008.28\n",
       "3         7950.66\n",
       "4        83134.37\n",
       "          ...    \n",
       "9043     20367.53\n",
       "9044     56709.39\n",
       "9045      9844.00\n",
       "9046     11624.90\n",
       "9047    156339.75\n",
       "Name: tilskuddsbelop, Length: 9048, dtype: float64"
      ]
     },
     "metadata": {},
     "execution_count": 13
    }
   ],
   "source": [
    "df['tilskuddsbelop']"
   ]
  },
  {
   "cell_type": "code",
   "execution_count": 14,
   "metadata": {},
   "outputs": [
    {
     "output_type": "execute_result",
     "data": {
      "text/plain": [
       "count        9048.00\n",
       "mean       191066.80\n",
       "std       2037838.13\n",
       "min          5000.34\n",
       "25%         17182.04\n",
       "50%         40433.06\n",
       "75%        102358.97\n",
       "max      81888735.97\n",
       "Name: tilskuddsbelop, dtype: float64"
      ]
     },
     "metadata": {},
     "execution_count": 14
    }
   ],
   "source": [
    "df['tilskuddsbelop'].describe().round(2)"
   ]
  },
  {
   "cell_type": "code",
   "execution_count": null,
   "metadata": {},
   "outputs": [],
   "source": [
    "df[df['tilskuddsbelop']==5000.34]"
   ]
  },
  {
   "cell_type": "code",
   "execution_count": null,
   "metadata": {},
   "outputs": [],
   "source": [
    "%pip install requests"
   ]
  },
  {
   "cell_type": "code",
   "execution_count": null,
   "metadata": {},
   "outputs": [],
   "source": [
    "import requests"
   ]
  },
  {
   "source": [
    "Hent mer info om selskapet som fikk minst støtte, gjennom API-et for åpne data fra Enhetsregisteret. Først lagrer vi URL-en til API-et."
   ],
   "cell_type": "markdown",
   "metadata": {}
  },
  {
   "cell_type": "code",
   "execution_count": null,
   "metadata": {},
   "outputs": [],
   "source": [
    "ERAPIURL = 'https://data.brreg.no/enhetsregisteret/api/enheter/'\n",
    "r = requests.get(ERAPIURL + '982575044')\n",
    "r.text"
   ]
  },
  {
   "cell_type": "code",
   "execution_count": null,
   "metadata": {},
   "outputs": [],
   "source": [
    "REGNSKAPAPIURL = 'http://34.98.91.231/regnskap/'\n",
    "r_regnskap = requests.get(REGNSKAPAPIURL + '982575044')\n",
    "r_regnskap.text"
   ]
  },
  {
   "source": [
    "## Næringskoder\n",
    "Det er tre kolonner med det vi kaller \"næringskoder\". Det er en kode Brønnøysundregistrene fastsetter basert på hva som er bedriftenes formål. Næringskoden har til hensikt å gjøre det mulig for SSB å lage statistikk. I andre land er det bedriftene selv som velger næringskode. Brønnøysundregistrene har tatt i bruk maskinlæring for å hjelpe saksbehandlerne med å fastsette næringskode, og de som er interesserte kan se mer om dette her:\n",
    "1) demo-grensesnitt for å få forslag til næringskode\n",
    "2) github med kode\n",
    "\n",
    "Det er SSB som forvalter næringskodene, og på deres side [Standard for næringsgruppering (SN)](https://www.ssb.no/klass/klassifikasjoner/6) kan dere lese mer om kodene. Her kan dere også laste ned en fil med alle næringskode og beskrivelse av dem. Den skal vi bruke videre. Den ligger i repoet med tittelen nace.csv. Hvis dere vil laste den ned selv, er URL-en https://data.ssb.no/api/klass/v1//versions/30.csv?language=nb \n",
    "\n",
    "Merk valg for separator og encoding når vi leser inn fila. Og som dere ser av utvalget dere får opp med \"sample\" inneholder den nye dataframen norske navn på kodene i kolonnen 'name'."
   ],
   "cell_type": "markdown",
   "metadata": {}
  },
  {
   "cell_type": "code",
   "execution_count": 22,
   "metadata": {},
   "outputs": [
    {
     "output_type": "execute_result",
     "data": {
      "text/plain": [
       "        code parentCode  level  \\\n",
       "1609    86.9         86      3   \n",
       "915    46.48       46.4      4   \n",
       "985   46.630      46.63      5   \n",
       "1261  59.140      59.14      5   \n",
       "605    28.11       28.1      4   \n",
       "\n",
       "                                                   name  \\\n",
       "1609                               Andre helsetjenester   \n",
       "915    Engroshandel med klokker, ur, gull- og sølvvarer   \n",
       "985   Engroshandel med maskiner og utstyr til bergve...   \n",
       "1261                                    Filmframvisning   \n",
       "605   Produksjon av motorer og turbiner, unntatt mot...   \n",
       "\n",
       "                                  shortName  \\\n",
       "1609                   Andre helsetjenester   \n",
       "915     Engrosh. klokker/ur/gull-/sølvvarer   \n",
       "985      Engros mask bygg/anl./oljeutv. mv.   \n",
       "1261                        Filmframvisning   \n",
       "605   Skipsmotor-/motor- og turbinprod. el.   \n",
       "\n",
       "                                                  notes  validFrom  validTo  \n",
       "1609                                                NaN        NaN      NaN  \n",
       "915                                                 NaN        NaN      NaN  \n",
       "985                                                 NaN        NaN      NaN  \n",
       "1261  Inkluderer: Omfatter framvisning av film eller...        NaN      NaN  \n",
       "605   Inkluderer: Omfatter produksjon av forbrenning...        NaN      NaN  "
      ],
      "text/html": "<div>\n<style scoped>\n    .dataframe tbody tr th:only-of-type {\n        vertical-align: middle;\n    }\n\n    .dataframe tbody tr th {\n        vertical-align: top;\n    }\n\n    .dataframe thead th {\n        text-align: right;\n    }\n</style>\n<table border=\"1\" class=\"dataframe\">\n  <thead>\n    <tr style=\"text-align: right;\">\n      <th></th>\n      <th>code</th>\n      <th>parentCode</th>\n      <th>level</th>\n      <th>name</th>\n      <th>shortName</th>\n      <th>notes</th>\n      <th>validFrom</th>\n      <th>validTo</th>\n    </tr>\n  </thead>\n  <tbody>\n    <tr>\n      <th>1609</th>\n      <td>86.9</td>\n      <td>86</td>\n      <td>3</td>\n      <td>Andre helsetjenester</td>\n      <td>Andre helsetjenester</td>\n      <td>NaN</td>\n      <td>NaN</td>\n      <td>NaN</td>\n    </tr>\n    <tr>\n      <th>915</th>\n      <td>46.48</td>\n      <td>46.4</td>\n      <td>4</td>\n      <td>Engroshandel med klokker, ur, gull- og sølvvarer</td>\n      <td>Engrosh. klokker/ur/gull-/sølvvarer</td>\n      <td>NaN</td>\n      <td>NaN</td>\n      <td>NaN</td>\n    </tr>\n    <tr>\n      <th>985</th>\n      <td>46.630</td>\n      <td>46.63</td>\n      <td>5</td>\n      <td>Engroshandel med maskiner og utstyr til bergve...</td>\n      <td>Engros mask bygg/anl./oljeutv. mv.</td>\n      <td>NaN</td>\n      <td>NaN</td>\n      <td>NaN</td>\n    </tr>\n    <tr>\n      <th>1261</th>\n      <td>59.140</td>\n      <td>59.14</td>\n      <td>5</td>\n      <td>Filmframvisning</td>\n      <td>Filmframvisning</td>\n      <td>Inkluderer: Omfatter framvisning av film eller...</td>\n      <td>NaN</td>\n      <td>NaN</td>\n    </tr>\n    <tr>\n      <th>605</th>\n      <td>28.11</td>\n      <td>28.1</td>\n      <td>4</td>\n      <td>Produksjon av motorer og turbiner, unntatt mot...</td>\n      <td>Skipsmotor-/motor- og turbinprod. el.</td>\n      <td>Inkluderer: Omfatter produksjon av forbrenning...</td>\n      <td>NaN</td>\n      <td>NaN</td>\n    </tr>\n  </tbody>\n</table>\n</div>"
     },
     "metadata": {},
     "execution_count": 22
    }
   ],
   "source": [
    "df_nace = pd.read_csv('nace.csv', sep=';', encoding='iso8859-1')\n",
    "df_nace.sample(5)"
   ]
  },
  {
   "cell_type": "code",
   "execution_count": 25,
   "metadata": {},
   "outputs": [
    {
     "output_type": "execute_result",
     "data": {
      "text/plain": [
       "0         01\n",
       "1       01.1\n",
       "2       01.2\n",
       "3       01.3\n",
       "4       01.4\n",
       "        ... \n",
       "1806       Q\n",
       "1807       R\n",
       "1808       S\n",
       "1809       T\n",
       "1810       U\n",
       "Name: code, Length: 1811, dtype: object"
      ]
     },
     "metadata": {},
     "execution_count": 25
    }
   ],
   "source": [
    "df_nace['code']"
   ]
  },
  {
   "cell_type": "code",
   "execution_count": null,
   "metadata": {},
   "outputs": [],
   "source": [
    "Det er den første kolonnen, code, som inneholder alle kodene. I vår opprinnelige dataframe med alle tilskuddene er det tre ulike næringskoder, men den første representerer hovedaktiviteten, så vi bryr oss bare om den. For å gjøre det enklere for oss, lager vi en ny dataframe, som sier litt om innholdet, og endrer samtidig navn på den kolonnene med næringskoder vi er interessert i til samme som i df_nace. På den måten kan vi enklere koble informasjonen mellom de to:"
   ]
  },
  {
   "cell_type": "code",
   "execution_count": 15,
   "metadata": {},
   "outputs": [],
   "source": [
    "df_tilskudd = df.rename(columns={'naeringskode1':'code'})"
   ]
  },
  {
   "cell_type": "code",
   "execution_count": null,
   "metadata": {},
   "outputs": [],
   "source": [
    "Nå som vi har to dataframes, som begge har en kolonne \"code\", kan vi bruke \"merge\"-funksjonen til å slå innholdet sammen. \n",
    "\n",
    "Situasjonen før er at vi bare har en kode av typen '93.130' som vi ikke vet hva betyr:"
   ]
  },
  {
   "cell_type": "code",
   "execution_count": 16,
   "metadata": {},
   "outputs": [
    {
     "output_type": "execute_result",
     "data": {
      "text/plain": [
       "   tilskuddsnummer  tilskuddsmottakerOrganisasjonsnummer  \\\n",
       "0       2021009917                             913686454   \n",
       "1       2021009916                             988237612   \n",
       "2       2021009915                             967265403   \n",
       "3       2021009914                             918718761   \n",
       "4       2021009913                             919965614   \n",
       "\n",
       "           tilskuddsmottakerNavn  kommunenummer       kommune  fylkesnummer  \\\n",
       "0            AKTIV365 SANDSLI AS           4601        BERGEN        4600.0   \n",
       "1  GOLDER ASSOCIATES AS (NORWAY)           3005       DRAMMEN        3000.0   \n",
       "2        ANITA GULBRANDSEN LØKEN           3020  NORDRE FOLLO        3000.0   \n",
       "3         THAI AROMA MASSASJE AS            301          OSLO         300.0   \n",
       "4                    GLH LADE AS           5001     TRONDHEIM        5000.0   \n",
       "\n",
       "                   fylke    code naeringskode2 naeringskode3  tilskuddsbelop  \\\n",
       "0               Vestland  93.130           NaN           NaN       125488.00   \n",
       "1                  Viken  71.129           NaN           NaN       208706.41   \n",
       "2                  Viken  49.320           NaN           NaN        15008.28   \n",
       "3                   Oslo  96.040           NaN           NaN         7950.66   \n",
       "4  Trøndelag Trööndelage  47.599           NaN           NaN        83134.37   \n",
       "\n",
       "     tildelingsdato       tilskuddsperiode  sammenligningsperiode  \\\n",
       "0  2021-03-08T00:00  november-desember2020  november-desember2019   \n",
       "1  2021-03-08T00:00  november-desember2020  november-desember2019   \n",
       "2  2021-03-08T00:00  november-desember2020  november-desember2019   \n",
       "3  2021-03-08T00:00  november-desember2020  november-desember2019   \n",
       "4  2021-03-08T00:00  september-oktober2020  september-oktober2019   \n",
       "\n",
       "   sumFasteUungaaeligeKostanderITilskuddsperioden  omsetningITilskuddsperiode  \\\n",
       "0                                       327907.57                    766608.0   \n",
       "1                                       554372.00                   5147270.0   \n",
       "2                                        34995.00                    196945.0   \n",
       "3                                        24905.00                     81300.0   \n",
       "4                                       287994.00                   2328281.0   \n",
       "\n",
       "   omsetningISammenligningsperiode justeringsfaktor  \\\n",
       "0                        1394409.0             0.85   \n",
       "1                        9239568.0             0.85   \n",
       "2                         397509.0             0.85   \n",
       "3                         130200.0             0.85   \n",
       "4                        3962232.0             0.70   \n",
       "\n",
       "   uavhengigMedsignererOrganisasjonsnummer uavhengigMedsignererNavn  \n",
       "0                                988782041    COLLEGIUM REVISJON AS  \n",
       "1                                993606650                   BDO AS  \n",
       "2                                922829845      PARTNER REVISJON AS  \n",
       "3                                913423585           MYHRERS RTB AS  \n",
       "4                                989271733                 VEKTE AS  "
      ],
      "text/html": "<div>\n<style scoped>\n    .dataframe tbody tr th:only-of-type {\n        vertical-align: middle;\n    }\n\n    .dataframe tbody tr th {\n        vertical-align: top;\n    }\n\n    .dataframe thead th {\n        text-align: right;\n    }\n</style>\n<table border=\"1\" class=\"dataframe\">\n  <thead>\n    <tr style=\"text-align: right;\">\n      <th></th>\n      <th>tilskuddsnummer</th>\n      <th>tilskuddsmottakerOrganisasjonsnummer</th>\n      <th>tilskuddsmottakerNavn</th>\n      <th>kommunenummer</th>\n      <th>kommune</th>\n      <th>fylkesnummer</th>\n      <th>fylke</th>\n      <th>code</th>\n      <th>naeringskode2</th>\n      <th>naeringskode3</th>\n      <th>tilskuddsbelop</th>\n      <th>tildelingsdato</th>\n      <th>tilskuddsperiode</th>\n      <th>sammenligningsperiode</th>\n      <th>sumFasteUungaaeligeKostanderITilskuddsperioden</th>\n      <th>omsetningITilskuddsperiode</th>\n      <th>omsetningISammenligningsperiode</th>\n      <th>justeringsfaktor</th>\n      <th>uavhengigMedsignererOrganisasjonsnummer</th>\n      <th>uavhengigMedsignererNavn</th>\n    </tr>\n  </thead>\n  <tbody>\n    <tr>\n      <th>0</th>\n      <td>2021009917</td>\n      <td>913686454</td>\n      <td>AKTIV365 SANDSLI AS</td>\n      <td>4601</td>\n      <td>BERGEN</td>\n      <td>4600.0</td>\n      <td>Vestland</td>\n      <td>93.130</td>\n      <td>NaN</td>\n      <td>NaN</td>\n      <td>125488.00</td>\n      <td>2021-03-08T00:00</td>\n      <td>november-desember2020</td>\n      <td>november-desember2019</td>\n      <td>327907.57</td>\n      <td>766608.0</td>\n      <td>1394409.0</td>\n      <td>0.85</td>\n      <td>988782041</td>\n      <td>COLLEGIUM REVISJON AS</td>\n    </tr>\n    <tr>\n      <th>1</th>\n      <td>2021009916</td>\n      <td>988237612</td>\n      <td>GOLDER ASSOCIATES AS (NORWAY)</td>\n      <td>3005</td>\n      <td>DRAMMEN</td>\n      <td>3000.0</td>\n      <td>Viken</td>\n      <td>71.129</td>\n      <td>NaN</td>\n      <td>NaN</td>\n      <td>208706.41</td>\n      <td>2021-03-08T00:00</td>\n      <td>november-desember2020</td>\n      <td>november-desember2019</td>\n      <td>554372.00</td>\n      <td>5147270.0</td>\n      <td>9239568.0</td>\n      <td>0.85</td>\n      <td>993606650</td>\n      <td>BDO AS</td>\n    </tr>\n    <tr>\n      <th>2</th>\n      <td>2021009915</td>\n      <td>967265403</td>\n      <td>ANITA GULBRANDSEN LØKEN</td>\n      <td>3020</td>\n      <td>NORDRE FOLLO</td>\n      <td>3000.0</td>\n      <td>Viken</td>\n      <td>49.320</td>\n      <td>NaN</td>\n      <td>NaN</td>\n      <td>15008.28</td>\n      <td>2021-03-08T00:00</td>\n      <td>november-desember2020</td>\n      <td>november-desember2019</td>\n      <td>34995.00</td>\n      <td>196945.0</td>\n      <td>397509.0</td>\n      <td>0.85</td>\n      <td>922829845</td>\n      <td>PARTNER REVISJON AS</td>\n    </tr>\n    <tr>\n      <th>3</th>\n      <td>2021009914</td>\n      <td>918718761</td>\n      <td>THAI AROMA MASSASJE AS</td>\n      <td>301</td>\n      <td>OSLO</td>\n      <td>300.0</td>\n      <td>Oslo</td>\n      <td>96.040</td>\n      <td>NaN</td>\n      <td>NaN</td>\n      <td>7950.66</td>\n      <td>2021-03-08T00:00</td>\n      <td>november-desember2020</td>\n      <td>november-desember2019</td>\n      <td>24905.00</td>\n      <td>81300.0</td>\n      <td>130200.0</td>\n      <td>0.85</td>\n      <td>913423585</td>\n      <td>MYHRERS RTB AS</td>\n    </tr>\n    <tr>\n      <th>4</th>\n      <td>2021009913</td>\n      <td>919965614</td>\n      <td>GLH LADE AS</td>\n      <td>5001</td>\n      <td>TRONDHEIM</td>\n      <td>5000.0</td>\n      <td>Trøndelag Trööndelage</td>\n      <td>47.599</td>\n      <td>NaN</td>\n      <td>NaN</td>\n      <td>83134.37</td>\n      <td>2021-03-08T00:00</td>\n      <td>september-oktober2020</td>\n      <td>september-oktober2019</td>\n      <td>287994.00</td>\n      <td>2328281.0</td>\n      <td>3962232.0</td>\n      <td>0.70</td>\n      <td>989271733</td>\n      <td>VEKTE AS</td>\n    </tr>\n  </tbody>\n</table>\n</div>"
     },
     "metadata": {},
     "execution_count": 16
    }
   ],
   "source": [
    "df_tilskudd.head()"
   ]
  },
  {
   "cell_type": "code",
   "execution_count": null,
   "metadata": {},
   "outputs": [],
   "source": [
    "Så kombinerer vi de to dataframene, og dermed får vi tekster for næringskodene i kolonnen 'name':"
   ]
  },
  {
   "cell_type": "code",
   "execution_count": 21,
   "metadata": {},
   "outputs": [
    {
     "output_type": "execute_result",
     "data": {
      "text/plain": [
       "      tilskuddsnummer  tilskuddsmottakerOrganisasjonsnummer  \\\n",
       "6544       2021007650                             899014332   \n",
       "7050       2021007361                             987919043   \n",
       "8435       2021006340                             979194803   \n",
       "3983       2021001090                             995437635   \n",
       "4421       2021005399                             912009181   \n",
       "\n",
       "            tilskuddsmottakerNavn  kommunenummer   kommune  fylkesnummer  \\\n",
       "6544  BERGEN RESTAURANTKANTINE AS           4601    BERGEN        4600.0   \n",
       "7050               RUDI KULTUR AS           3438  SØR-FRON        3400.0   \n",
       "8435     BRENNERIVEIEN JAZZHUS AS            301      OSLO         300.0   \n",
       "3983            H. L. BAKKEKRO AS            301      OSLO         300.0   \n",
       "4421                      AS GLEA           1856      RØST        1800.0   \n",
       "\n",
       "          fylke    code naeringskode2 naeringskode3  ...  justeringsfaktor  \\\n",
       "6544   Vestland  56.290           NaN           NaN  ...              0.70   \n",
       "7050  Innlandet  90.020           NaN           NaN  ...              0.85   \n",
       "8435       Oslo  90.040           NaN           NaN  ...              0.70   \n",
       "3983       Oslo  56.101           NaN           NaN  ...              0.85   \n",
       "4421   Nordland  10.201           NaN           NaN  ...              0.70   \n",
       "\n",
       "     uavhengigMedsignererOrganisasjonsnummer uavhengigMedsignererNavn  \\\n",
       "6544                               963048386       OLSTAD REVISJON AS   \n",
       "7050                               967673374  FRON REGNSKAPSKONTOR SA   \n",
       "8435                               912129802             STATEMENT AS   \n",
       "3983                               982903378           VIC CONSULT AS   \n",
       "4421                               950485922         ØKORÅD NARVIK AS   \n",
       "\n",
       "     parentCode  level                                               name  \\\n",
       "6544      56.29      5         Kantiner drevet som selvstendig virksomhet   \n",
       "7050      90.02      5      Tjenester tilknyttet underholdningsvirksomhet   \n",
       "8435      90.04      5  Drift av lokaler tilknyttet kunstnerisk virkso...   \n",
       "3983      56.10      5                    Drift av restauranter og kafeer   \n",
       "4421      10.20      5      Produksjon av saltfisk, tørrfisk og klippfisk   \n",
       "\n",
       "                                shortName  \\\n",
       "6544     Kantinedrift, selvst. virksomhet   \n",
       "7050    Tjen. tilkn. underholdningsvirks.   \n",
       "8435    Drift lokaler tilkn. kunst.virks.   \n",
       "3983      Drift av restauranter og kafeer   \n",
       "4421  Salt-, tørr- og klippfiskproduksjon   \n",
       "\n",
       "                                                  notes  validFrom validTo  \n",
       "6544  Inkluderer: Omfatter underleverandører av mat ...        NaN     NaN  \n",
       "7050  Inkluderer: Omfatter tjenester i forbindelse m...        NaN     NaN  \n",
       "8435  Inkluderer: Omfatter drift av konsert- og teat...        NaN     NaN  \n",
       "3983  Inkluderer også: Omfatter også togservering Ek...        NaN     NaN  \n",
       "4421                                                NaN        NaN     NaN  \n",
       "\n",
       "[5 rows x 27 columns]"
      ],
      "text/html": "<div>\n<style scoped>\n    .dataframe tbody tr th:only-of-type {\n        vertical-align: middle;\n    }\n\n    .dataframe tbody tr th {\n        vertical-align: top;\n    }\n\n    .dataframe thead th {\n        text-align: right;\n    }\n</style>\n<table border=\"1\" class=\"dataframe\">\n  <thead>\n    <tr style=\"text-align: right;\">\n      <th></th>\n      <th>tilskuddsnummer</th>\n      <th>tilskuddsmottakerOrganisasjonsnummer</th>\n      <th>tilskuddsmottakerNavn</th>\n      <th>kommunenummer</th>\n      <th>kommune</th>\n      <th>fylkesnummer</th>\n      <th>fylke</th>\n      <th>code</th>\n      <th>naeringskode2</th>\n      <th>naeringskode3</th>\n      <th>...</th>\n      <th>justeringsfaktor</th>\n      <th>uavhengigMedsignererOrganisasjonsnummer</th>\n      <th>uavhengigMedsignererNavn</th>\n      <th>parentCode</th>\n      <th>level</th>\n      <th>name</th>\n      <th>shortName</th>\n      <th>notes</th>\n      <th>validFrom</th>\n      <th>validTo</th>\n    </tr>\n  </thead>\n  <tbody>\n    <tr>\n      <th>6544</th>\n      <td>2021007650</td>\n      <td>899014332</td>\n      <td>BERGEN RESTAURANTKANTINE AS</td>\n      <td>4601</td>\n      <td>BERGEN</td>\n      <td>4600.0</td>\n      <td>Vestland</td>\n      <td>56.290</td>\n      <td>NaN</td>\n      <td>NaN</td>\n      <td>...</td>\n      <td>0.70</td>\n      <td>963048386</td>\n      <td>OLSTAD REVISJON AS</td>\n      <td>56.29</td>\n      <td>5</td>\n      <td>Kantiner drevet som selvstendig virksomhet</td>\n      <td>Kantinedrift, selvst. virksomhet</td>\n      <td>Inkluderer: Omfatter underleverandører av mat ...</td>\n      <td>NaN</td>\n      <td>NaN</td>\n    </tr>\n    <tr>\n      <th>7050</th>\n      <td>2021007361</td>\n      <td>987919043</td>\n      <td>RUDI KULTUR AS</td>\n      <td>3438</td>\n      <td>SØR-FRON</td>\n      <td>3400.0</td>\n      <td>Innlandet</td>\n      <td>90.020</td>\n      <td>NaN</td>\n      <td>NaN</td>\n      <td>...</td>\n      <td>0.85</td>\n      <td>967673374</td>\n      <td>FRON REGNSKAPSKONTOR SA</td>\n      <td>90.02</td>\n      <td>5</td>\n      <td>Tjenester tilknyttet underholdningsvirksomhet</td>\n      <td>Tjen. tilkn. underholdningsvirks.</td>\n      <td>Inkluderer: Omfatter tjenester i forbindelse m...</td>\n      <td>NaN</td>\n      <td>NaN</td>\n    </tr>\n    <tr>\n      <th>8435</th>\n      <td>2021006340</td>\n      <td>979194803</td>\n      <td>BRENNERIVEIEN JAZZHUS AS</td>\n      <td>301</td>\n      <td>OSLO</td>\n      <td>300.0</td>\n      <td>Oslo</td>\n      <td>90.040</td>\n      <td>NaN</td>\n      <td>NaN</td>\n      <td>...</td>\n      <td>0.70</td>\n      <td>912129802</td>\n      <td>STATEMENT AS</td>\n      <td>90.04</td>\n      <td>5</td>\n      <td>Drift av lokaler tilknyttet kunstnerisk virkso...</td>\n      <td>Drift lokaler tilkn. kunst.virks.</td>\n      <td>Inkluderer: Omfatter drift av konsert- og teat...</td>\n      <td>NaN</td>\n      <td>NaN</td>\n    </tr>\n    <tr>\n      <th>3983</th>\n      <td>2021001090</td>\n      <td>995437635</td>\n      <td>H. L. BAKKEKRO AS</td>\n      <td>301</td>\n      <td>OSLO</td>\n      <td>300.0</td>\n      <td>Oslo</td>\n      <td>56.101</td>\n      <td>NaN</td>\n      <td>NaN</td>\n      <td>...</td>\n      <td>0.85</td>\n      <td>982903378</td>\n      <td>VIC CONSULT AS</td>\n      <td>56.10</td>\n      <td>5</td>\n      <td>Drift av restauranter og kafeer</td>\n      <td>Drift av restauranter og kafeer</td>\n      <td>Inkluderer også: Omfatter også togservering Ek...</td>\n      <td>NaN</td>\n      <td>NaN</td>\n    </tr>\n    <tr>\n      <th>4421</th>\n      <td>2021005399</td>\n      <td>912009181</td>\n      <td>AS GLEA</td>\n      <td>1856</td>\n      <td>RØST</td>\n      <td>1800.0</td>\n      <td>Nordland</td>\n      <td>10.201</td>\n      <td>NaN</td>\n      <td>NaN</td>\n      <td>...</td>\n      <td>0.70</td>\n      <td>950485922</td>\n      <td>ØKORÅD NARVIK AS</td>\n      <td>10.20</td>\n      <td>5</td>\n      <td>Produksjon av saltfisk, tørrfisk og klippfisk</td>\n      <td>Salt-, tørr- og klippfiskproduksjon</td>\n      <td>NaN</td>\n      <td>NaN</td>\n      <td>NaN</td>\n    </tr>\n  </tbody>\n</table>\n<p>5 rows × 27 columns</p>\n</div>"
     },
     "metadata": {},
     "execution_count": 21
    }
   ],
   "source": [
    "df_extended = pd.merge(df_tilskudd, df_nace)\n",
    "df_extended.sample(5)"
   ]
  },
  {
   "cell_type": "code",
   "execution_count": null,
   "metadata": {},
   "outputs": [],
   "source": []
  }
 ]
}
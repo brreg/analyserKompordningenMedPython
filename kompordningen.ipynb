{
 "metadata": {
  "language_info": {
   "codemirror_mode": {
    "name": "ipython",
    "version": 3
   },
   "file_extension": ".py",
   "mimetype": "text/x-python",
   "name": "python",
   "nbconvert_exporter": "python",
   "pygments_lexer": "ipython3",
   "version": "3.9.1-final"
  },
  "orig_nbformat": 2,
  "kernelspec": {
   "name": "python3",
   "display_name": "Python 3",
   "language": "python"
  }
 },
 "nbformat": 4,
 "nbformat_minor": 2,
 "cells": [
  {
   "source": [
    "# Analyser data fra kompensasjonsordningen med Python og Pandas\n",
    "\n",
    "I denne notatboken brukes data om tildelinger av støtte fra Kompensasjonsordningen for næringslivet.\n",
    "\n",
    "Dataene ligger som både .json og .csv i dette repositoriet, men inneholder ikke de siste tallene. Vedtak skjer løpende. Oppdaterte data legges ut hver time. Dette repo-et inneholder allerede en kopi av dataene fra mars i år. Ønsker du en oppdatert versjon kan du laste ned med f.eks. curl:\n"
   ],
   "cell_type": "markdown",
   "metadata": {}
  },
  {
   "cell_type": "code",
   "execution_count": null,
   "metadata": {},
   "outputs": [],
   "source": [
    "# JSON\n",
    "%curl https://data.brreg.no/kompensasjonsordning/api/tilskudd/json --output tilskudd.json"
   ]
  },
  {
   "cell_type": "code",
   "execution_count": null,
   "metadata": {},
   "outputs": [],
   "source": [
    "# CSV\n",
    "%curl https://data.brreg.no/kompensasjonsordning/api/tilskudd/csv --output tilskudd.csv"
   ]
  },
  {
   "source": [
    "Steg 0: Installer Pandas\n",
    "\n",
    "Dersom du ikke har gjort det allerede, installer Pandas (men husk den obligatoriske oppgraderingen av pip først). "
   ],
   "cell_type": "markdown",
   "metadata": {}
  },
  {
   "cell_type": "code",
   "execution_count": null,
   "metadata": {},
   "outputs": [],
   "source": [
    "%pip install --upgrade pip\n",
    "%pip install pandas"
   ]
  },
  {
   "source": [
    "Steg 1: Litt info om datasettet\n",
    "\n",
    "Vi starter med å importere pandas, lese inn csv-filen, og få et inntrykk av hva den inneholder. Merk at det CSV-fila bruker semikolon som skilletegn.\n",
    "\n",
    "\n"
   ],
   "cell_type": "markdown",
   "metadata": {}
  },
  {
   "cell_type": "code",
   "execution_count": null,
   "metadata": {},
   "outputs": [],
   "source": [
    "import pandas as pd\n",
    "\n",
    "df = pd.read_csv('tilskudd.csv', sep=';')\n",
    "df.head()\n"
   ]
  },
  {
   "source": [
    "Vi ser at ... osv ..."
   ],
   "cell_type": "markdown",
   "metadata": {}
  },
  {
   "source": [
    "Det som er mest interessant å få frem verdier på er ikke med, som tilskuddsbeløp, og ulike omsetningstall. Det skyldes at disse verdiene leses inn som tekst istedenfor tall, pga komma som desimaltegn.\n"
   ],
   "cell_type": "markdown",
   "metadata": {}
  },
  {
   "cell_type": "code",
   "execution_count": null,
   "metadata": {},
   "outputs": [],
   "source": [
    "df.describe()"
   ]
  },
  {
   "cell_type": "code",
   "execution_count": null,
   "metadata": {},
   "outputs": [],
   "source": [
    "df.sample(10)"
   ]
  },
  {
   "cell_type": "code",
   "execution_count": null,
   "metadata": {},
   "outputs": [],
   "source": [
    "df.columns"
   ]
  },
  {
   "cell_type": "code",
   "execution_count": null,
   "metadata": {},
   "outputs": [],
   "source": [
    "df['tilskuddsbelop']\n"
   ]
  },
  {
   "source": [
    "Må lese inn Excel-fila igjen og denne gangen presiserer vi hva som er desimalskilletegnet:"
   ],
   "cell_type": "markdown",
   "metadata": {}
  },
  {
   "cell_type": "code",
   "execution_count": null,
   "metadata": {},
   "outputs": [],
   "source": [
    "df = pd.read_csv('tilskudd.csv', sep=';', decimal=',')\n"
   ]
  },
  {
   "cell_type": "code",
   "execution_count": null,
   "metadata": {},
   "outputs": [],
   "source": [
    "df.describe()"
   ]
  },
  {
   "cell_type": "code",
   "execution_count": null,
   "metadata": {},
   "outputs": [],
   "source": [
    "df['tilskuddsbelop']"
   ]
  },
  {
   "cell_type": "code",
   "execution_count": null,
   "metadata": {},
   "outputs": [],
   "source": [
    "df['tilskuddsbelop'].describe().round(2)"
   ]
  },
  {
   "cell_type": "code",
   "execution_count": null,
   "metadata": {},
   "outputs": [],
   "source": [
    "df[df['tilskuddsbelop']==5000.34]"
   ]
  },
  {
   "cell_type": "code",
   "execution_count": null,
   "metadata": {},
   "outputs": [],
   "source": [
    "%pip install requests"
   ]
  },
  {
   "cell_type": "code",
   "execution_count": null,
   "metadata": {},
   "outputs": [],
   "source": [
    "import requests"
   ]
  },
  {
   "source": [
    "Hent mer info om selskapet som fikk minst støtte, gjennom API-et for åpne data fra Enhetsregisteret. Først lagrer vi URL-en til API-et."
   ],
   "cell_type": "markdown",
   "metadata": {}
  },
  {
   "cell_type": "code",
   "execution_count": null,
   "metadata": {},
   "outputs": [],
   "source": [
    "ERAPIURL = 'https://data.brreg.no/enhetsregisteret/api/enheter/'\n",
    "r = requests.get(ERAPIURL + '982575044')\n",
    "r.text"
   ]
  },
  {
   "cell_type": "code",
   "execution_count": null,
   "metadata": {},
   "outputs": [],
   "source": [
    "REGNSKAPAPIURL = 'http://34.98.91.231/regnskap/'\n",
    "r_regnskap = requests.get(REGNSKAPAPIURL + '982575044')\n",
    "r_regnskap.text"
   ]
  }
 ]
}
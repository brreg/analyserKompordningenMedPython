{
 "metadata": {
  "language_info": {
   "codemirror_mode": {
    "name": "ipython",
    "version": 3
   },
   "file_extension": ".py",
   "mimetype": "text/x-python",
   "name": "python",
   "nbconvert_exporter": "python",
   "pygments_lexer": "ipython3",
   "version": "3.9.1-final"
  },
  "orig_nbformat": 2,
  "kernelspec": {
   "name": "python3",
   "display_name": "Python 3.9.1 64-bit ('.venv': venv)",
   "metadata": {
    "interpreter": {
     "hash": "0fe63efd068e23262d79ec61e7bb726d3be0a24f23ee9079746da516a8355acd"
    }
   }
  }
 },
 "nbformat": 4,
 "nbformat_minor": 2,
 "cells": [
  {
   "source": [
    "# Analyser data fra kompensasjonsordningen med Python og Pandas\n",
    "\n",
    "I denne notatboken brukes data om tildelinger av støtte fra Kompensasjonsordningen for næringslivet.\n",
    "Dataene ligger som både .json og .csv i dette repositoriet, men inneholder ikke de siste tallene. Dersom du ønsker å bruke oppdaterte tall kan de hentes fra hhv [link1] og [link2].\n",
    "\n",
    "Steg 0: Installer Pandas\n",
    "\n",
    "Dersom du ikke har gjort det allerede, installer Pandas. Bruk % for å indikere at det ikke er python-kode men en 'magisk' kommando:"
   ],
   "cell_type": "markdown",
   "metadata": {}
  },
  {
   "cell_type": "code",
   "execution_count": 1,
   "metadata": {},
   "outputs": [
    {
     "output_type": "stream",
     "name": "stdout",
     "text": [
      "Collecting pandas\n",
      "  Downloading pandas-1.2.3-cp39-cp39-manylinux1_x86_64.whl (9.7 MB)\n",
      "\u001b[K     |████████████████████████████████| 9.7 MB 3.2 MB/s \n",
      "\u001b[?25hCollecting numpy>=1.16.5\n",
      "  Downloading numpy-1.20.1-cp39-cp39-manylinux2010_x86_64.whl (15.4 MB)\n",
      "\u001b[K     |████████████████████████████████| 15.4 MB 19.3 MB/s \n",
      "\u001b[?25hRequirement already satisfied: python-dateutil>=2.7.3 in ./.venv/lib/python3.9/site-packages (from pandas) (2.8.1)\n",
      "Collecting pytz>=2017.3\n",
      "  Downloading pytz-2021.1-py2.py3-none-any.whl (510 kB)\n",
      "\u001b[K     |████████████████████████████████| 510 kB 13.2 MB/s \n",
      "\u001b[?25hRequirement already satisfied: six>=1.5 in ./.venv/lib/python3.9/site-packages (from python-dateutil>=2.7.3->pandas) (1.15.0)\n",
      "Installing collected packages: pytz, numpy, pandas\n",
      "Successfully installed numpy-1.20.1 pandas-1.2.3 pytz-2021.1\n",
      "Note: you may need to restart the kernel to use updated packages.\n"
     ]
    }
   ],
   "source": [
    "%pip install pandas"
   ]
  },
  {
   "source": [
    "Steg 1: Litt info om datasettet\n",
    "\n",
    "Vi starter med å se på csv-filen, og finne litt ut om den\n",
    "\n",
    "Vedtak skjer løpende. Oppdaterte data legges ut hver time. For de nyeste dataene gjør ..."
   ],
   "cell_type": "markdown",
   "metadata": {}
  },
  {
   "cell_type": "code",
   "execution_count": 7,
   "metadata": {},
   "outputs": [
    {
     "output_type": "execute_result",
     "data": {
      "text/plain": [
       "   tilskuddsnummer  ...  uavhengigMedsignererNavn\n",
       "0       2021009917  ...     COLLEGIUM REVISJON AS\n",
       "1       2021009916  ...                    BDO AS\n",
       "2       2021009915  ...       PARTNER REVISJON AS\n",
       "3       2021009914  ...            MYHRERS RTB AS\n",
       "4       2021009913  ...                  VEKTE AS\n",
       "\n",
       "[5 rows x 20 columns]"
      ],
      "text/html": "<div>\n<style scoped>\n    .dataframe tbody tr th:only-of-type {\n        vertical-align: middle;\n    }\n\n    .dataframe tbody tr th {\n        vertical-align: top;\n    }\n\n    .dataframe thead th {\n        text-align: right;\n    }\n</style>\n<table border=\"1\" class=\"dataframe\">\n  <thead>\n    <tr style=\"text-align: right;\">\n      <th></th>\n      <th>tilskuddsnummer</th>\n      <th>tilskuddsmottakerOrganisasjonsnummer</th>\n      <th>tilskuddsmottakerNavn</th>\n      <th>kommunenummer</th>\n      <th>kommune</th>\n      <th>fylkesnummer</th>\n      <th>fylke</th>\n      <th>naeringskode1</th>\n      <th>naeringskode2</th>\n      <th>naeringskode3</th>\n      <th>tilskuddsbelop</th>\n      <th>tildelingsdato</th>\n      <th>tilskuddsperiode</th>\n      <th>sammenligningsperiode</th>\n      <th>sumFasteUungaaeligeKostanderITilskuddsperioden</th>\n      <th>omsetningITilskuddsperiode</th>\n      <th>omsetningISammenligningsperiode</th>\n      <th>justeringsfaktor</th>\n      <th>uavhengigMedsignererOrganisasjonsnummer</th>\n      <th>uavhengigMedsignererNavn</th>\n    </tr>\n  </thead>\n  <tbody>\n    <tr>\n      <th>0</th>\n      <td>2021009917</td>\n      <td>913686454</td>\n      <td>AKTIV365 SANDSLI AS</td>\n      <td>4601</td>\n      <td>BERGEN</td>\n      <td>4600.0</td>\n      <td>Vestland</td>\n      <td>93.130</td>\n      <td>NaN</td>\n      <td>NaN</td>\n      <td>125488,00</td>\n      <td>2021-03-08T00:00</td>\n      <td>november-desember2020</td>\n      <td>november-desember2019</td>\n      <td>327907,57</td>\n      <td>766608,00</td>\n      <td>1394409,00</td>\n      <td>0.85</td>\n      <td>988782041</td>\n      <td>COLLEGIUM REVISJON AS</td>\n    </tr>\n    <tr>\n      <th>1</th>\n      <td>2021009916</td>\n      <td>988237612</td>\n      <td>GOLDER ASSOCIATES AS (NORWAY)</td>\n      <td>3005</td>\n      <td>DRAMMEN</td>\n      <td>3000.0</td>\n      <td>Viken</td>\n      <td>71.129</td>\n      <td>NaN</td>\n      <td>NaN</td>\n      <td>208706,41</td>\n      <td>2021-03-08T00:00</td>\n      <td>november-desember2020</td>\n      <td>november-desember2019</td>\n      <td>554372,00</td>\n      <td>5147270,00</td>\n      <td>9239568,00</td>\n      <td>0.85</td>\n      <td>993606650</td>\n      <td>BDO AS</td>\n    </tr>\n    <tr>\n      <th>2</th>\n      <td>2021009915</td>\n      <td>967265403</td>\n      <td>ANITA GULBRANDSEN LØKEN</td>\n      <td>3020</td>\n      <td>NORDRE FOLLO</td>\n      <td>3000.0</td>\n      <td>Viken</td>\n      <td>49.320</td>\n      <td>NaN</td>\n      <td>NaN</td>\n      <td>15008,28</td>\n      <td>2021-03-08T00:00</td>\n      <td>november-desember2020</td>\n      <td>november-desember2019</td>\n      <td>34995,00</td>\n      <td>196945,00</td>\n      <td>397509,00</td>\n      <td>0.85</td>\n      <td>922829845</td>\n      <td>PARTNER REVISJON AS</td>\n    </tr>\n    <tr>\n      <th>3</th>\n      <td>2021009914</td>\n      <td>918718761</td>\n      <td>THAI AROMA MASSASJE AS</td>\n      <td>301</td>\n      <td>OSLO</td>\n      <td>300.0</td>\n      <td>Oslo</td>\n      <td>96.040</td>\n      <td>NaN</td>\n      <td>NaN</td>\n      <td>7950,66</td>\n      <td>2021-03-08T00:00</td>\n      <td>november-desember2020</td>\n      <td>november-desember2019</td>\n      <td>24905,00</td>\n      <td>81300,00</td>\n      <td>130200,00</td>\n      <td>0.85</td>\n      <td>913423585</td>\n      <td>MYHRERS RTB AS</td>\n    </tr>\n    <tr>\n      <th>4</th>\n      <td>2021009913</td>\n      <td>919965614</td>\n      <td>GLH LADE AS</td>\n      <td>5001</td>\n      <td>TRONDHEIM</td>\n      <td>5000.0</td>\n      <td>Trøndelag Trööndelage</td>\n      <td>47.599</td>\n      <td>NaN</td>\n      <td>NaN</td>\n      <td>83134,37</td>\n      <td>2021-03-08T00:00</td>\n      <td>september-oktober2020</td>\n      <td>september-oktober2019</td>\n      <td>287994,00</td>\n      <td>2328281,00</td>\n      <td>3962232,00</td>\n      <td>0.70</td>\n      <td>989271733</td>\n      <td>VEKTE AS</td>\n    </tr>\n  </tbody>\n</table>\n</div>"
     },
     "metadata": {},
     "execution_count": 7
    }
   ],
   "source": [
    "import pandas as pd\n",
    "\n",
    "df = pd.read_csv('tilskudd.csv', sep=';')\n",
    "df.head()\n"
   ]
  },
  {
   "source": [
    "Vi ser at ... osv ..."
   ],
   "cell_type": "markdown",
   "metadata": {}
  },
  {
   "cell_type": "code",
   "execution_count": 9,
   "metadata": {},
   "outputs": [
    {
     "output_type": "execute_result",
     "data": {
      "text/plain": [
       "       tilskuddsnummer  ...  uavhengigMedsignererOrganisasjonsnummer\n",
       "count     9.048000e+03  ...                             9.048000e+03\n",
       "mean      2.021005e+09  ...                             9.544368e+08\n",
       "std       2.847589e+03  ...                             4.161825e+07\n",
       "min       2.021000e+09  ...                             8.121884e+08\n",
       "25%       2.021003e+09  ...                             9.206667e+08\n",
       "50%       2.021005e+09  ...                             9.744623e+08\n",
       "75%       2.021007e+09  ...                             9.875649e+08\n",
       "max       2.021010e+09  ...                             9.996475e+08\n",
       "\n",
       "[8 rows x 9 columns]"
      ],
      "text/html": "<div>\n<style scoped>\n    .dataframe tbody tr th:only-of-type {\n        vertical-align: middle;\n    }\n\n    .dataframe tbody tr th {\n        vertical-align: top;\n    }\n\n    .dataframe thead th {\n        text-align: right;\n    }\n</style>\n<table border=\"1\" class=\"dataframe\">\n  <thead>\n    <tr style=\"text-align: right;\">\n      <th></th>\n      <th>tilskuddsnummer</th>\n      <th>tilskuddsmottakerOrganisasjonsnummer</th>\n      <th>kommunenummer</th>\n      <th>fylkesnummer</th>\n      <th>naeringskode1</th>\n      <th>naeringskode2</th>\n      <th>naeringskode3</th>\n      <th>justeringsfaktor</th>\n      <th>uavhengigMedsignererOrganisasjonsnummer</th>\n    </tr>\n  </thead>\n  <tbody>\n    <tr>\n      <th>count</th>\n      <td>9.048000e+03</td>\n      <td>9.048000e+03</td>\n      <td>9048.000000</td>\n      <td>9012.000000</td>\n      <td>9048.000000</td>\n      <td>244.000000</td>\n      <td>9.000000</td>\n      <td>9048.000000</td>\n      <td>9.048000e+03</td>\n    </tr>\n    <tr>\n      <th>mean</th>\n      <td>2.021005e+09</td>\n      <td>9.481143e+08</td>\n      <td>2662.386273</td>\n      <td>2651.364847</td>\n      <td>58.102011</td>\n      <td>54.737045</td>\n      <td>48.966889</td>\n      <td>0.789838</td>\n      <td>9.544368e+08</td>\n    </tr>\n    <tr>\n      <th>std</th>\n      <td>2.847589e+03</td>\n      <td>4.406056e+07</td>\n      <td>1772.681531</td>\n      <td>1772.489596</td>\n      <td>17.751790</td>\n      <td>22.596203</td>\n      <td>29.426245</td>\n      <td>0.073522</td>\n      <td>4.161825e+07</td>\n    </tr>\n    <tr>\n      <th>min</th>\n      <td>2.021000e+09</td>\n      <td>8.116188e+08</td>\n      <td>301.000000</td>\n      <td>300.000000</td>\n      <td>0.000000</td>\n      <td>0.000000</td>\n      <td>10.710000</td>\n      <td>0.700000</td>\n      <td>8.121884e+08</td>\n    </tr>\n    <tr>\n      <th>25%</th>\n      <td>2.021003e+09</td>\n      <td>9.168709e+08</td>\n      <td>1103.000000</td>\n      <td>1100.000000</td>\n      <td>49.320000</td>\n      <td>47.285250</td>\n      <td>15.200000</td>\n      <td>0.700000</td>\n      <td>9.206667e+08</td>\n    </tr>\n    <tr>\n      <th>50%</th>\n      <td>2.021005e+09</td>\n      <td>9.579039e+08</td>\n      <td>3024.000000</td>\n      <td>3000.000000</td>\n      <td>56.101000</td>\n      <td>55.202000</td>\n      <td>55.202000</td>\n      <td>0.850000</td>\n      <td>9.744623e+08</td>\n    </tr>\n    <tr>\n      <th>75%</th>\n      <td>2.021007e+09</td>\n      <td>9.880344e+08</td>\n      <td>4601.000000</td>\n      <td>4600.000000</td>\n      <td>70.220000</td>\n      <td>70.100000</td>\n      <td>78.200000</td>\n      <td>0.850000</td>\n      <td>9.875649e+08</td>\n    </tr>\n    <tr>\n      <th>max</th>\n      <td>2.021010e+09</td>\n      <td>9.996654e+08</td>\n      <td>5444.000000</td>\n      <td>5400.000000</td>\n      <td>96.090000</td>\n      <td>96.020000</td>\n      <td>79.909000</td>\n      <td>0.850000</td>\n      <td>9.996475e+08</td>\n    </tr>\n  </tbody>\n</table>\n</div>"
     },
     "metadata": {},
     "execution_count": 9
    }
   ],
   "source": [
    "df.describe()"
   ]
  },
  {
   "source": [
    "Det som er mest interessant å få frem verdier på er ikke med, som tilskuddsbeløp, og ulike omsetningstall. Det skyldes at disse verdiene leses inn som tekst istedenfor tall, pga komma som desimaltegn.\n"
   ],
   "cell_type": "markdown",
   "metadata": {}
  },
  {
   "cell_type": "code",
   "execution_count": 10,
   "metadata": {},
   "outputs": [
    {
     "output_type": "execute_result",
     "data": {
      "text/plain": [
       "Index(['tilskuddsnummer', 'tilskuddsmottakerOrganisasjonsnummer',\n",
       "       'tilskuddsmottakerNavn', 'kommunenummer', 'kommune', 'fylkesnummer',\n",
       "       'fylke', 'naeringskode1', 'naeringskode2', 'naeringskode3',\n",
       "       'tilskuddsbelop', 'tildelingsdato', 'tilskuddsperiode',\n",
       "       'sammenligningsperiode',\n",
       "       'sumFasteUungaaeligeKostanderITilskuddsperioden',\n",
       "       'omsetningITilskuddsperiode', 'omsetningISammenligningsperiode',\n",
       "       'justeringsfaktor', 'uavhengigMedsignererOrganisasjonsnummer',\n",
       "       'uavhengigMedsignererNavn'],\n",
       "      dtype='object')"
      ]
     },
     "metadata": {},
     "execution_count": 10
    }
   ],
   "source": [
    "df.columns"
   ]
  },
  {
   "cell_type": "code",
   "execution_count": 18,
   "metadata": {},
   "outputs": [
    {
     "output_type": "execute_result",
     "data": {
      "text/plain": [
       "0       125488,00\n",
       "1       208706,41\n",
       "2        15008,28\n",
       "3         7950,66\n",
       "4        83134,37\n",
       "          ...    \n",
       "9043     20367,53\n",
       "9044     56709,39\n",
       "9045      9844,00\n",
       "9046     11624,90\n",
       "9047    156339,75\n",
       "Name: tilskuddsbelop, Length: 9048, dtype: object"
      ]
     },
     "metadata": {},
     "execution_count": 18
    }
   ],
   "source": [
    "df['tilskuddsbelop']\n"
   ]
  },
  {
   "source": [
    "Må lese inn Excel-fila igjen og denne gangen presiserer vi hva som er desimalskilletegnet:"
   ],
   "cell_type": "markdown",
   "metadata": {}
  },
  {
   "cell_type": "code",
   "execution_count": 19,
   "metadata": {},
   "outputs": [],
   "source": [
    "df = pd.read_csv('tilskudd.csv', sep=';', decimal=',')\n"
   ]
  },
  {
   "cell_type": "code",
   "execution_count": 20,
   "metadata": {},
   "outputs": [
    {
     "output_type": "execute_result",
     "data": {
      "text/plain": [
       "       tilskuddsnummer  ...  uavhengigMedsignererOrganisasjonsnummer\n",
       "count     9.048000e+03  ...                             9.048000e+03\n",
       "mean      2.021005e+09  ...                             9.544368e+08\n",
       "std       2.847589e+03  ...                             4.161825e+07\n",
       "min       2.021000e+09  ...                             8.121884e+08\n",
       "25%       2.021003e+09  ...                             9.206667e+08\n",
       "50%       2.021005e+09  ...                             9.744623e+08\n",
       "75%       2.021007e+09  ...                             9.875649e+08\n",
       "max       2.021010e+09  ...                             9.996475e+08\n",
       "\n",
       "[8 rows x 9 columns]"
      ],
      "text/html": "<div>\n<style scoped>\n    .dataframe tbody tr th:only-of-type {\n        vertical-align: middle;\n    }\n\n    .dataframe tbody tr th {\n        vertical-align: top;\n    }\n\n    .dataframe thead th {\n        text-align: right;\n    }\n</style>\n<table border=\"1\" class=\"dataframe\">\n  <thead>\n    <tr style=\"text-align: right;\">\n      <th></th>\n      <th>tilskuddsnummer</th>\n      <th>tilskuddsmottakerOrganisasjonsnummer</th>\n      <th>kommunenummer</th>\n      <th>fylkesnummer</th>\n      <th>tilskuddsbelop</th>\n      <th>sumFasteUungaaeligeKostanderITilskuddsperioden</th>\n      <th>omsetningITilskuddsperiode</th>\n      <th>omsetningISammenligningsperiode</th>\n      <th>uavhengigMedsignererOrganisasjonsnummer</th>\n    </tr>\n  </thead>\n  <tbody>\n    <tr>\n      <th>count</th>\n      <td>9.048000e+03</td>\n      <td>9.048000e+03</td>\n      <td>9048.000000</td>\n      <td>9012.000000</td>\n      <td>9.048000e+03</td>\n      <td>9.048000e+03</td>\n      <td>9.048000e+03</td>\n      <td>9.048000e+03</td>\n      <td>9.048000e+03</td>\n    </tr>\n    <tr>\n      <th>mean</th>\n      <td>2.021005e+09</td>\n      <td>9.481143e+08</td>\n      <td>2662.386273</td>\n      <td>2651.364847</td>\n      <td>1.910668e+05</td>\n      <td>4.228766e+05</td>\n      <td>1.433093e+06</td>\n      <td>1.424610e+07</td>\n      <td>9.544368e+08</td>\n    </tr>\n    <tr>\n      <th>std</th>\n      <td>2.847589e+03</td>\n      <td>4.406056e+07</td>\n      <td>1772.681531</td>\n      <td>1772.489596</td>\n      <td>2.037838e+06</td>\n      <td>4.467720e+06</td>\n      <td>8.715873e+06</td>\n      <td>1.013714e+09</td>\n      <td>4.161825e+07</td>\n    </tr>\n    <tr>\n      <th>min</th>\n      <td>2.021000e+09</td>\n      <td>8.116188e+08</td>\n      <td>301.000000</td>\n      <td>300.000000</td>\n      <td>5.000340e+03</td>\n      <td>6.410000e+03</td>\n      <td>0.000000e+00</td>\n      <td>6.000000e+03</td>\n      <td>8.121884e+08</td>\n    </tr>\n    <tr>\n      <th>25%</th>\n      <td>2.021003e+09</td>\n      <td>9.168709e+08</td>\n      <td>1103.000000</td>\n      <td>1100.000000</td>\n      <td>1.718204e+04</td>\n      <td>4.087875e+04</td>\n      <td>1.117474e+05</td>\n      <td>3.516660e+05</td>\n      <td>9.206667e+08</td>\n    </tr>\n    <tr>\n      <th>50%</th>\n      <td>2.021005e+09</td>\n      <td>9.579039e+08</td>\n      <td>3024.000000</td>\n      <td>3000.000000</td>\n      <td>4.043306e+04</td>\n      <td>9.759950e+04</td>\n      <td>3.093570e+05</td>\n      <td>9.054335e+05</td>\n      <td>9.744623e+08</td>\n    </tr>\n    <tr>\n      <th>75%</th>\n      <td>2.021007e+09</td>\n      <td>9.880344e+08</td>\n      <td>4601.000000</td>\n      <td>4600.000000</td>\n      <td>1.023590e+05</td>\n      <td>2.405640e+05</td>\n      <td>9.022215e+05</td>\n      <td>2.425666e+06</td>\n      <td>9.875649e+08</td>\n    </tr>\n    <tr>\n      <th>max</th>\n      <td>2.021010e+09</td>\n      <td>9.996654e+08</td>\n      <td>5444.000000</td>\n      <td>5400.000000</td>\n      <td>8.188874e+07</td>\n      <td>1.918143e+08</td>\n      <td>4.146793e+08</td>\n      <td>9.640463e+10</td>\n      <td>9.996475e+08</td>\n    </tr>\n  </tbody>\n</table>\n</div>"
     },
     "metadata": {},
     "execution_count": 20
    }
   ],
   "source": [
    "df.describe()"
   ]
  },
  {
   "cell_type": "code",
   "execution_count": 21,
   "metadata": {},
   "outputs": [
    {
     "output_type": "execute_result",
     "data": {
      "text/plain": [
       "0       125488.00\n",
       "1       208706.41\n",
       "2        15008.28\n",
       "3         7950.66\n",
       "4        83134.37\n",
       "          ...    \n",
       "9043     20367.53\n",
       "9044     56709.39\n",
       "9045      9844.00\n",
       "9046     11624.90\n",
       "9047    156339.75\n",
       "Name: tilskuddsbelop, Length: 9048, dtype: float64"
      ]
     },
     "metadata": {},
     "execution_count": 21
    }
   ],
   "source": [
    "df['tilskuddsbelop']"
   ]
  },
  {
   "cell_type": "code",
   "execution_count": null,
   "metadata": {},
   "outputs": [],
   "source": []
  }
 ]
}
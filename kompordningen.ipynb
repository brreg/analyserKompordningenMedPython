{
 "metadata": {
  "language_info": {
   "codemirror_mode": {
    "name": "ipython",
    "version": 3
   },
   "file_extension": ".py",
   "mimetype": "text/x-python",
   "name": "python",
   "nbconvert_exporter": "python",
   "pygments_lexer": "ipython3",
   "version": "3.9.1-final"
  },
  "orig_nbformat": 2,
  "kernelspec": {
   "name": "python3",
   "display_name": "Python 3",
   "language": "python"
  }
 },
 "nbformat": 4,
 "nbformat_minor": 2,
 "cells": [
  {
   "source": [
    "# Analyser data fra kompensasjonsordningen med Python og Pandas\n",
    "\n",
    "I denne notatboken brukes data om tildelinger av støtte fra Kompensasjonsordningen for næringslivet. For oversikt over hva som finnes av Åpne data fra Brønnøysundregistrene, gå til [https://data.brreg.no]. På [https://data.norge.no] finner dere oversikt over data fra både Brønnøysundregistrene og andre.\n",
    "\n",
    "Dataene vi skal bruke CSV-filer i dette repositoriet, men inneholder ikke de siste tallene. Vedtak om støtte etter kompensasjonsordnigen skjer løpende. Oppdaterte data legges ut hver time. Dette repo-et inneholder en kopi av dataene fra mars i år. Ønsker du en oppdatert versjon kan du laste ned med f.eks. curl:\n",
    "\n",
    "```\n",
    "curl https://data.brreg.no/kompensasjonsordning/api/tilskudd/csv --output tilskudd.csv\n",
    "```\n",
    "\n",
    "Det er også mulig å laste ned JSON hvis noen foretrekker det, det gjelder også de andre filene vi laster ned senere:\n",
    "\n",
    "```\n",
    "curl https://data.brreg.no/kompensasjonsordning/api/tilskudd/json --output tilskudd.json"
   ],
   "cell_type": "markdown",
   "metadata": {}
  },
  {
   "source": [
    "# Installer Pandas\n",
    "\n",
    "Dersom du ikke har gjort det allerede, installer Pandas (men husk den obligatoriske oppgraderingen av pip først). "
   ],
   "cell_type": "markdown",
   "metadata": {}
  },
  {
   "cell_type": "code",
   "execution_count": null,
   "metadata": {},
   "outputs": [],
   "source": [
    "%pip install --upgrade pip\n",
    "%pip install pandas"
   ]
  },
  {
   "source": [
    "## Last inn datasettet og gjør deg kjent\n",
    "\n",
    "Vi starter med å importere pandas, lese inn csv-filen, og få et inntrykk av hva den inneholder. Merk at CSV-fila bruker semikolon som skilletegn.\n",
    "\n",
    "\n"
   ],
   "cell_type": "markdown",
   "metadata": {}
  },
  {
   "cell_type": "code",
   "execution_count": null,
   "metadata": {},
   "outputs": [],
   "source": [
    "import pandas as pd\n",
    "\n"
   ]
  },
  {
   "cell_type": "code",
   "execution_count": null,
   "metadata": {},
   "outputs": [],
   "source": [
    "df = pd.read_csv('tilskudd.csv', sep=';')\n",
    "df.head()\n"
   ]
  },
  {
   "source": [
    "Vi kan også få et uttrekk av helt tilfeldige rader, istedenfor bare de første, ved hjelp av sample(n) der n er antall rader:"
   ],
   "cell_type": "markdown",
   "metadata": {}
  },
  {
   "cell_type": "code",
   "execution_count": null,
   "metadata": {},
   "outputs": [],
   "source": [
    "df.sample(10)"
   ]
  },
  {
   "source": [
    "Med head() og sample(n) får vi kjapt et inntrykk av dataene vi har å gjøre med. Det er en liste over tilskudd, hvem som har mottatt, hvor de holder til med mer.\n",
    "\n",
    "Siden tabellen er så bred, kan det også være nyttig å bruke columns for å få en liste over alle kolonnenavnene:\n"
   ],
   "cell_type": "markdown",
   "metadata": {}
  },
  {
   "cell_type": "code",
   "execution_count": null,
   "metadata": {},
   "outputs": [],
   "source": [
    "df.columns"
   ]
  },
  {
   "source": [
    "## Litt lynkjapp statistikk med describe() avslører noen svakheter\n",
    "Pandas har funksjon for å gi en rask oppsummering av noen statistiske egenskaper ved dataene i en dataframe, gjennom describe(). Da får vi blant annet antall verdier, median, minimum, maximum og gjennomsnitt (50 %-verdien):"
   ],
   "cell_type": "markdown",
   "metadata": {}
  },
  {
   "cell_type": "code",
   "execution_count": null,
   "metadata": {},
   "outputs": [],
   "source": [
    "df.describe()"
   ]
  },
  {
   "source": [
    "Men her ser vi at det som det er mest interessant å få frem verdier på er ikke med, for eksempel beløpene for tilskudd og omsetningstall. Det skyldes at disse verdiene leses inn som tekst istedenfor tall, pga komma som desimaltegn. Til gjengjeld får vi masse statistiske verdier for numre som er identifikatorer og ikke tall, f.eks. organisasjonsnummer, næringskode, kommunenummer. For å bekrefte det kan vi se nærmere på en enkelt kolonne, og se hvilken type (dtype) den har:\n"
   ],
   "cell_type": "markdown",
   "metadata": {}
  },
  {
   "cell_type": "code",
   "execution_count": null,
   "metadata": {},
   "outputs": [],
   "source": [
    "df['tilskuddsbelop']\n"
   ]
  },
  {
   "cell_type": "code",
   "execution_count": null,
   "metadata": {},
   "outputs": [],
   "source": [
    "df['tilskuddsnummer']"
   ]
  },
  {
   "source": [
    "Beløp er altså den generelle \"object\"-typen mens identifikatoren tilskuddsnummer er tall (int64)"
   ],
   "cell_type": "markdown",
   "metadata": {}
  },
  {
   "source": [
    "Årsaken til at beløp blir tekst er at desimalskilletegnet i Pandas er punktum, mens vi bruker komma i Norge. Så for ved å presisere dette når vi leser inn Excel-fila igjen kan vi få rettet opp noen av datatypene:"
   ],
   "cell_type": "markdown",
   "metadata": {}
  },
  {
   "cell_type": "code",
   "execution_count": null,
   "metadata": {},
   "outputs": [],
   "source": [
    "df = pd.read_csv('tilskudd.csv', sep=';', decimal=',')"
   ]
  },
  {
   "cell_type": "code",
   "execution_count": null,
   "metadata": {},
   "outputs": [],
   "source": [
    "df.describe()"
   ]
  },
  {
   "source": [
    "Nå ser vi at beløpene er blitt tall, og til gjengjeld er næringskodene ikke lenger tall. Det hjalp litt. "
   ],
   "cell_type": "markdown",
   "metadata": {}
  },
  {
   "cell_type": "code",
   "execution_count": null,
   "metadata": {},
   "outputs": [],
   "source": [
    "df['tilskuddsbelop']"
   ]
  },
  {
   "cell_type": "code",
   "execution_count": null,
   "metadata": {},
   "outputs": [],
   "source": [
    "df['tilskuddsbelop'].describe().round(2)"
   ]
  },
  {
   "source": [
    "I tillegg kan vi endre datatypen til de ulike numrene som egentlig er identifikatorer."
   ],
   "cell_type": "markdown",
   "metadata": {}
  },
  {
   "cell_type": "code",
   "execution_count": null,
   "metadata": {},
   "outputs": [],
   "source": [
    "# TODO"
   ]
  },
  {
   "source": [
    "# Identfisere enkeltselskap og hente mer detaljer\n",
    "Hvis jeg f.eks. gjerne vil finne ut hvem som har fått minst, kan jeg spørre etter den som har tilskuddsbeløp lik minimumsbeløpet:"
   ],
   "cell_type": "markdown",
   "metadata": {}
  },
  {
   "cell_type": "code",
   "execution_count": null,
   "metadata": {},
   "outputs": [],
   "source": [
    "df[df['tilskuddsbelop']==5000.34] # minimumsbeløpet kan være et annet med oppdaterte tall, sjekk resultatet i cellen over"
   ]
  },
  {
   "source": [
    "Når vi har organisasjonsnummeret til en konkret virksomhet, kan vi få mer informasjon om denne virksomheten  gjennom API-et for åpne data fra Enhetsregisteret. Da bruker request-biblioteket."
   ],
   "cell_type": "markdown",
   "metadata": {}
  },
  {
   "cell_type": "code",
   "execution_count": null,
   "metadata": {},
   "outputs": [],
   "source": [
    "%pip install requests"
   ]
  },
  {
   "cell_type": "code",
   "execution_count": null,
   "metadata": {},
   "outputs": [],
   "source": [
    "import requests"
   ]
  },
  {
   "source": [
    "Først lagrer vi URL-en til API-et, og gjør et oppslag til URL-en med tillegget av organisasjonsnummeret, og skriver ut resultatet."
   ],
   "cell_type": "markdown",
   "metadata": {}
  },
  {
   "cell_type": "code",
   "execution_count": null,
   "metadata": {},
   "outputs": [],
   "source": [
    "ERAPIURL = 'https://data.brreg.no/enhetsregisteret/api/enheter/'\n",
    "r = requests.get(ERAPIURL + '982575044')\n",
    "r.text"
   ]
  },
  {
   "source": [
    "Det er også et eget API for å hente nøkkeltall fra det siste innsendte årsregnskapet:"
   ],
   "cell_type": "markdown",
   "metadata": {}
  },
  {
   "cell_type": "code",
   "execution_count": null,
   "metadata": {},
   "outputs": [],
   "source": [
    "REGNSKAPAPIURL = 'http://34.98.91.231/regnskap/'\n",
    "r_regnskap = requests.get(REGNSKAPAPIURL + '982575044')\n",
    "r_regnskap.text"
   ]
  },
  {
   "source": [
    "Vi kan også åpne nettsiden med informasjon om enheten (NB! Dette fungerer når jeg kjører lokalt, men jeg fikk det ikke til å fungere ved bruk av binder, men det er ikke kritisk. Hvis dere er er nysgjerrige kan dere sette sammen linken manuelt og sjekke resultatet selv ved å lime det inn i en ny nettleserfane :-))"
   ],
   "cell_type": "markdown",
   "metadata": {}
  },
  {
   "cell_type": "code",
   "execution_count": null,
   "metadata": {},
   "outputs": [],
   "source": [
    "import webbrowser\n",
    "\n",
    "ERWEBURL = 'https://w2.brreg.no/enhet/sok/detalj.jsp?orgnr='\n",
    "# generate an URL\n",
    "webbrowser.open(ERWEBURL + '982575044')"
   ]
  },
  {
   "source": [
    "## Næringskoder\n",
    "Det er tre kolonner med det vi kaller \"næringskoder\". Det er en kode Brønnøysundregistrene fastsetter basert på hva som er bedriftenes formål. Næringskoden har til hensikt å gjøre det mulig for SSB å lage statistikk. I andre land er det bedriftene selv som velger næringskode. Brønnøysundregistrene har tatt i bruk maskinlæring for å hjelpe saksbehandlerne med å fastsette næringskode, og de som er interesserte kan se mer om dette her:\n",
    "1) demo-grensesnitt for å få forslag til næringskode\n",
    "2) github med kode\n",
    "\n",
    "Det er SSB som forvalter næringskodene, og på deres side [Standard for næringsgruppering (SN)](https://www.ssb.no/klass/klassifikasjoner/6) kan dere lese mer om kodene. Her kan dere også laste ned en fil med alle næringskode og beskrivelse av dem. Den skal vi bruke videre. Den ligger i repoet med tittelen nace.csv. Hvis dere vil laste den ned selv, er URL-en https://data.ssb.no/api/klass/v1//versions/30.csv?language=nb \n",
    "\n",
    "Merk valg for separator og encoding når vi leser inn fila. Og som dere ser av utvalget dere får opp med \"sample\" inneholder den nye dataframen norske navn på kodene i kolonnen 'name'."
   ],
   "cell_type": "markdown",
   "metadata": {}
  },
  {
   "cell_type": "code",
   "execution_count": null,
   "metadata": {},
   "outputs": [],
   "source": [
    "df_nace = pd.read_csv('nace.csv', sep=';', encoding='iso8859-1')\n",
    "df_nace.sample(5)"
   ]
  },
  {
   "cell_type": "code",
   "execution_count": null,
   "metadata": {},
   "outputs": [],
   "source": [
    "df_nace['code']"
   ]
  },
  {
   "source": [
    "Det er den første kolonnen, code, som inneholder alle kodene. I vår opprinnelige dataframe med alle tilskuddene er det tre ulike næringskoder, men den første representerer hovedaktiviteten, så vi bryr oss bare om den. For å gjøre det enklere for oss, lager vi en ny dataframe, som sier litt om innholdet, og endrer samtidig navn på den kolonnene med næringskoder vi er interessert i til samme som i df_nace. På den måten kan vi enklere koble informasjonen mellom de to:"
   ],
   "cell_type": "markdown",
   "metadata": {}
  },
  {
   "cell_type": "code",
   "execution_count": null,
   "metadata": {},
   "outputs": [],
   "source": [
    "df_tilskudd = df.rename(columns={'naeringskode1':'code'})"
   ]
  },
  {
   "source": [
    "Nå som vi har to dataframes, som begge har en kolonne \"code\", kan vi bruke \"merge\"-funksjonen til å slå innholdet sammen. \n",
    "\n",
    "Situasjonen før er at vi bare har en kode av typen '93.130' som vi ikke vet hva betyr:"
   ],
   "cell_type": "markdown",
   "metadata": {}
  },
  {
   "cell_type": "code",
   "execution_count": null,
   "metadata": {},
   "outputs": [],
   "source": [
    "df_tilskudd.head()"
   ]
  },
  {
   "source": [
    "Så kombinerer vi de to dataframene, og dermed får vi tekster for næringskodene i kolonnen 'name':"
   ],
   "cell_type": "markdown",
   "metadata": {}
  },
  {
   "cell_type": "code",
   "execution_count": null,
   "metadata": {},
   "outputs": [],
   "source": [
    "df_extended = pd.merge(df_tilskudd, df_nace)\n",
    "df_extended.sample(5)"
   ]
  },
  {
   "source": [
    "Da kan vi se nærmere på tilskudd til enkelte næringskoder, f.eks. '93.130'"
   ],
   "cell_type": "markdown",
   "metadata": {}
  },
  {
   "cell_type": "code",
   "execution_count": null,
   "metadata": {},
   "outputs": [],
   "source": [
    "df_extended[df_extended['code']=='93.130'].sample(5)"
   ]
  },
  {
   "cell_type": "code",
   "execution_count": null,
   "metadata": {},
   "outputs": [],
   "source": [
    "df_extended[df_extended['code']=='93.130'].describe().round(2)"
   ]
  },
  {
   "source": [
    "## Kombinere med andre data fra Enhetsregisteret: Antall ansatte\n",
    "\n",
    "Det er også mulig å laste ned hele enhetsregisteret. Da får dere tilgang til mer detaljer om de enkelte selskapene, for eksempel antall ansatte. En oppgave kan være å finne ut hvor mange av bedriftene som har fått støtte gjennom kompensasjonsordningen har færre enn 10 ansatte?\n",
    "\n",
    "Ettersom Enhetsregisteret er ganske stort så har vi \"juksa litt\" og laget en forenklet versjon som kun har organisasjonsnummer og antall ansatte. Men nederst i denne notatboken står oppskriften for å gjøre dette på egenhånd. Det kan hende at det er begrensninger i Jupyter for størrelse på fila som leses inn, så det må kanskje gjøres i \"vanlig\" Python.\n",
    "\n",
    "Fila heter orgnr_ansatte.csv"
   ],
   "cell_type": "markdown",
   "metadata": {}
  },
  {
   "cell_type": "code",
   "execution_count": null,
   "metadata": {},
   "outputs": [],
   "source": [
    "\n",
    "df_enheter = pd.read_csv('orgnr_ansatte.csv')"
   ]
  },
  {
   "cell_type": "code",
   "execution_count": null,
   "metadata": {},
   "outputs": [],
   "source": [
    "df_enheter.columns"
   ]
  },
  {
   "cell_type": "code",
   "execution_count": null,
   "metadata": {},
   "outputs": [],
   "source": [
    "df_enheter.sample(10)"
   ]
  },
  {
   "source": [
    "Nå har vi en dataframe med alle tilskuddene, men den mangler data om antall ansatte. Og vi har en dataframe med antall ansatte pr organisasjonsnummer. Så da trenger vi å \"merge\" sånn at vi får lagt til antall ansatte i dataframen med tilskudd.\n",
    "\n",
    "Denne gangen, istedenfor å endre så det er identisk navn på kolonnene vi skal \"merge\" på, så kan vi også angi eksplisitt hvilken kolonne i hver av dataframene som er nøkkelen:"
   ],
   "cell_type": "markdown",
   "metadata": {}
  },
  {
   "cell_type": "code",
   "execution_count": null,
   "metadata": {},
   "outputs": [],
   "source": [
    "df_extended2 = pd.merge(df_extended, df_enheter, left_on='tilskuddsmottakerOrganisasjonsnummer', right_on='organisasjonsnummer')"
   ]
  },
  {
   "source": [
    "Vi tar en titt på resultatet:"
   ],
   "cell_type": "markdown",
   "metadata": {}
  },
  {
   "cell_type": "code",
   "execution_count": null,
   "metadata": {},
   "outputs": [],
   "source": [
    "df_extended2"
   ]
  },
  {
   "cell_type": "code",
   "execution_count": null,
   "metadata": {},
   "outputs": [],
   "source": [
    "df_extended2[['tilskuddsmottakerNavn','antallAnsatte']]"
   ]
  },
  {
   "cell_type": "code",
   "execution_count": null,
   "metadata": {},
   "outputs": [],
   "source": [
    "df_extended2['antallAnsatte'].describe().round(0)"
   ]
  },
  {
   "cell_type": "code",
   "execution_count": null,
   "metadata": {},
   "outputs": [],
   "source": [
    "df_extended2[['tilskuddsmottakerNavn','antallAnsatte']][df_extended2['antallAnsatte']<10]"
   ]
  },
  {
   "source": [
    "## Laste ned og lage forenklet versjon av Enhetsregisteret\n",
    "Som nevnt over\n",
    "\n",
    "\n",
    "URL til nedlasting av alle hovedenheter: https://data.brreg.no/enhetsregisteret/api/enheter/lastned\n",
    "Resultatet er en zippet fil, som f.eks. kan unzippes med gunzip <filnavn>\n",
    "\n",
    "Koden nedenfor tar utgangspunkt i at filnavnet er enheter_alle.json\n",
    "```\n",
    "import pandas as pd\n",
    "df_enheter = pd.read_json('enheter_alle.json')  # df med hele Enhetsregisteret\n",
    "df_orgnrOgAnsatte = df_enheter[['organisasjonsnummer','antallAnsatte']]  # lager ny df kun med to kolonner\n",
    "df_orgnrOgAnsatte.to_csv('orgnr_ansatte.csv')  # lager en CSV-fil med innholdet i den nye df-en\n",
    "\n"
   ],
   "cell_type": "markdown",
   "metadata": {}
  }
 ]
}
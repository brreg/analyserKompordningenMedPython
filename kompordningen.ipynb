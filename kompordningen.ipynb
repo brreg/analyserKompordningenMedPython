{
 "metadata": {
  "language_info": {
   "codemirror_mode": {
    "name": "ipython",
    "version": 3
   },
   "file_extension": ".py",
   "mimetype": "text/x-python",
   "name": "python",
   "nbconvert_exporter": "python",
   "pygments_lexer": "ipython3",
   "version": "3.9.1-final"
  },
  "orig_nbformat": 2,
  "kernelspec": {
   "name": "python3",
   "display_name": "Python 3",
   "language": "python"
  }
 },
 "nbformat": 4,
 "nbformat_minor": 2,
 "cells": [
  {
   "source": [
    "# Analyser data fra kompensasjonsordningen med Python og Pandas\n",
    "\n",
    "I denne notatboken brukes data om tildelinger av støtte fra Kompensasjonsordningen for næringslivet.\n",
    "\n",
    "Dataene ligger som både .json og .csv i dette repositoriet, men inneholder ikke de siste tallene. Vedtak skjer løpende. Oppdaterte data legges ut hver time. Dette repo-et inneholder allerede en kopi av dataene fra mars i år. Ønsker du en oppdatert versjon kan du laste ned med f.eks. curl:\n"
   ],
   "cell_type": "markdown",
   "metadata": {}
  },
  {
   "cell_type": "code",
   "execution_count": null,
   "metadata": {},
   "outputs": [],
   "source": [
    "# JSON\n",
    "%curl https://data.brreg.no/kompensasjonsordning/api/tilskudd/json --output tilskudd.json"
   ]
  },
  {
   "cell_type": "code",
   "execution_count": null,
   "metadata": {},
   "outputs": [],
   "source": [
    "# CSV\n",
    "%curl https://data.brreg.no/kompensasjonsordning/api/tilskudd/csv --output tilskudd.csv"
   ]
  },
  {
   "source": [
    "Steg 0: Installer Pandas\n",
    "\n",
    "Dersom du ikke har gjort det allerede, installer Pandas (men husk den obligatoriske oppgraderingen av pip først). "
   ],
   "cell_type": "markdown",
   "metadata": {}
  },
  {
   "cell_type": "code",
   "execution_count": 2,
   "metadata": {},
   "outputs": [
    {
     "output_type": "stream",
     "name": "stdout",
     "text": [
      "Collecting pip\n",
      "  Using cached pip-21.0.1-py3-none-any.whl (1.5 MB)\n",
      "Installing collected packages: pip\n",
      "  Attempting uninstall: pip\n",
      "    Found existing installation: pip 20.2.3\n",
      "    Uninstalling pip-20.2.3:\n",
      "      Successfully uninstalled pip-20.2.3\n",
      "Successfully installed pip-21.0.1\n",
      "Note: you may need to restart the kernel to use updated packages.\n",
      "Collecting pandas\n",
      "  Using cached pandas-1.2.3-cp39-cp39-manylinux1_x86_64.whl (9.7 MB)\n",
      "Requirement already satisfied: python-dateutil>=2.7.3 in ./.venv/lib/python3.9/site-packages (from pandas) (2.8.1)\n",
      "Collecting pytz>=2017.3\n",
      "  Using cached pytz-2021.1-py2.py3-none-any.whl (510 kB)\n",
      "Collecting numpy>=1.16.5\n",
      "  Using cached numpy-1.20.1-cp39-cp39-manylinux2010_x86_64.whl (15.4 MB)\n",
      "Requirement already satisfied: six>=1.5 in ./.venv/lib/python3.9/site-packages (from python-dateutil>=2.7.3->pandas) (1.15.0)\n",
      "Installing collected packages: pytz, numpy, pandas\n",
      "Successfully installed numpy-1.20.1 pandas-1.2.3 pytz-2021.1\n",
      "Note: you may need to restart the kernel to use updated packages.\n"
     ]
    }
   ],
   "source": [
    "%pip install --upgrade pip\n",
    "%pip install pandas"
   ]
  },
  {
   "source": [
    "Steg 1: Litt info om datasettet\n",
    "\n",
    "Vi starter med å importere pandas, lese inn csv-filen, og få et inntrykk av hva den inneholder. Merk at det CSV-fila bruker semikolon som skilletegn.\n",
    "\n",
    "\n"
   ],
   "cell_type": "markdown",
   "metadata": {}
  },
  {
   "cell_type": "code",
   "execution_count": 3,
   "metadata": {},
   "outputs": [
    {
     "output_type": "execute_result",
     "data": {
      "text/plain": [
       "   tilskuddsnummer  tilskuddsmottakerOrganisasjonsnummer  \\\n",
       "0       2021009917                             913686454   \n",
       "1       2021009916                             988237612   \n",
       "2       2021009915                             967265403   \n",
       "3       2021009914                             918718761   \n",
       "4       2021009913                             919965614   \n",
       "\n",
       "           tilskuddsmottakerNavn  kommunenummer       kommune  fylkesnummer  \\\n",
       "0            AKTIV365 SANDSLI AS           4601        BERGEN        4600.0   \n",
       "1  GOLDER ASSOCIATES AS (NORWAY)           3005       DRAMMEN        3000.0   \n",
       "2        ANITA GULBRANDSEN LØKEN           3020  NORDRE FOLLO        3000.0   \n",
       "3         THAI AROMA MASSASJE AS            301          OSLO         300.0   \n",
       "4                    GLH LADE AS           5001     TRONDHEIM        5000.0   \n",
       "\n",
       "                   fylke  naeringskode1  naeringskode2  naeringskode3  \\\n",
       "0               Vestland         93.130            NaN            NaN   \n",
       "1                  Viken         71.129            NaN            NaN   \n",
       "2                  Viken         49.320            NaN            NaN   \n",
       "3                   Oslo         96.040            NaN            NaN   \n",
       "4  Trøndelag Trööndelage         47.599            NaN            NaN   \n",
       "\n",
       "  tilskuddsbelop    tildelingsdato       tilskuddsperiode  \\\n",
       "0      125488,00  2021-03-08T00:00  november-desember2020   \n",
       "1      208706,41  2021-03-08T00:00  november-desember2020   \n",
       "2       15008,28  2021-03-08T00:00  november-desember2020   \n",
       "3        7950,66  2021-03-08T00:00  november-desember2020   \n",
       "4       83134,37  2021-03-08T00:00  september-oktober2020   \n",
       "\n",
       "   sammenligningsperiode sumFasteUungaaeligeKostanderITilskuddsperioden  \\\n",
       "0  november-desember2019                                      327907,57   \n",
       "1  november-desember2019                                      554372,00   \n",
       "2  november-desember2019                                       34995,00   \n",
       "3  november-desember2019                                       24905,00   \n",
       "4  september-oktober2019                                      287994,00   \n",
       "\n",
       "  omsetningITilskuddsperiode omsetningISammenligningsperiode  \\\n",
       "0                  766608,00                      1394409,00   \n",
       "1                 5147270,00                      9239568,00   \n",
       "2                  196945,00                       397509,00   \n",
       "3                   81300,00                       130200,00   \n",
       "4                 2328281,00                      3962232,00   \n",
       "\n",
       "   justeringsfaktor  uavhengigMedsignererOrganisasjonsnummer  \\\n",
       "0              0.85                                988782041   \n",
       "1              0.85                                993606650   \n",
       "2              0.85                                922829845   \n",
       "3              0.85                                913423585   \n",
       "4              0.70                                989271733   \n",
       "\n",
       "  uavhengigMedsignererNavn  \n",
       "0    COLLEGIUM REVISJON AS  \n",
       "1                   BDO AS  \n",
       "2      PARTNER REVISJON AS  \n",
       "3           MYHRERS RTB AS  \n",
       "4                 VEKTE AS  "
      ],
      "text/html": "<div>\n<style scoped>\n    .dataframe tbody tr th:only-of-type {\n        vertical-align: middle;\n    }\n\n    .dataframe tbody tr th {\n        vertical-align: top;\n    }\n\n    .dataframe thead th {\n        text-align: right;\n    }\n</style>\n<table border=\"1\" class=\"dataframe\">\n  <thead>\n    <tr style=\"text-align: right;\">\n      <th></th>\n      <th>tilskuddsnummer</th>\n      <th>tilskuddsmottakerOrganisasjonsnummer</th>\n      <th>tilskuddsmottakerNavn</th>\n      <th>kommunenummer</th>\n      <th>kommune</th>\n      <th>fylkesnummer</th>\n      <th>fylke</th>\n      <th>naeringskode1</th>\n      <th>naeringskode2</th>\n      <th>naeringskode3</th>\n      <th>tilskuddsbelop</th>\n      <th>tildelingsdato</th>\n      <th>tilskuddsperiode</th>\n      <th>sammenligningsperiode</th>\n      <th>sumFasteUungaaeligeKostanderITilskuddsperioden</th>\n      <th>omsetningITilskuddsperiode</th>\n      <th>omsetningISammenligningsperiode</th>\n      <th>justeringsfaktor</th>\n      <th>uavhengigMedsignererOrganisasjonsnummer</th>\n      <th>uavhengigMedsignererNavn</th>\n    </tr>\n  </thead>\n  <tbody>\n    <tr>\n      <th>0</th>\n      <td>2021009917</td>\n      <td>913686454</td>\n      <td>AKTIV365 SANDSLI AS</td>\n      <td>4601</td>\n      <td>BERGEN</td>\n      <td>4600.0</td>\n      <td>Vestland</td>\n      <td>93.130</td>\n      <td>NaN</td>\n      <td>NaN</td>\n      <td>125488,00</td>\n      <td>2021-03-08T00:00</td>\n      <td>november-desember2020</td>\n      <td>november-desember2019</td>\n      <td>327907,57</td>\n      <td>766608,00</td>\n      <td>1394409,00</td>\n      <td>0.85</td>\n      <td>988782041</td>\n      <td>COLLEGIUM REVISJON AS</td>\n    </tr>\n    <tr>\n      <th>1</th>\n      <td>2021009916</td>\n      <td>988237612</td>\n      <td>GOLDER ASSOCIATES AS (NORWAY)</td>\n      <td>3005</td>\n      <td>DRAMMEN</td>\n      <td>3000.0</td>\n      <td>Viken</td>\n      <td>71.129</td>\n      <td>NaN</td>\n      <td>NaN</td>\n      <td>208706,41</td>\n      <td>2021-03-08T00:00</td>\n      <td>november-desember2020</td>\n      <td>november-desember2019</td>\n      <td>554372,00</td>\n      <td>5147270,00</td>\n      <td>9239568,00</td>\n      <td>0.85</td>\n      <td>993606650</td>\n      <td>BDO AS</td>\n    </tr>\n    <tr>\n      <th>2</th>\n      <td>2021009915</td>\n      <td>967265403</td>\n      <td>ANITA GULBRANDSEN LØKEN</td>\n      <td>3020</td>\n      <td>NORDRE FOLLO</td>\n      <td>3000.0</td>\n      <td>Viken</td>\n      <td>49.320</td>\n      <td>NaN</td>\n      <td>NaN</td>\n      <td>15008,28</td>\n      <td>2021-03-08T00:00</td>\n      <td>november-desember2020</td>\n      <td>november-desember2019</td>\n      <td>34995,00</td>\n      <td>196945,00</td>\n      <td>397509,00</td>\n      <td>0.85</td>\n      <td>922829845</td>\n      <td>PARTNER REVISJON AS</td>\n    </tr>\n    <tr>\n      <th>3</th>\n      <td>2021009914</td>\n      <td>918718761</td>\n      <td>THAI AROMA MASSASJE AS</td>\n      <td>301</td>\n      <td>OSLO</td>\n      <td>300.0</td>\n      <td>Oslo</td>\n      <td>96.040</td>\n      <td>NaN</td>\n      <td>NaN</td>\n      <td>7950,66</td>\n      <td>2021-03-08T00:00</td>\n      <td>november-desember2020</td>\n      <td>november-desember2019</td>\n      <td>24905,00</td>\n      <td>81300,00</td>\n      <td>130200,00</td>\n      <td>0.85</td>\n      <td>913423585</td>\n      <td>MYHRERS RTB AS</td>\n    </tr>\n    <tr>\n      <th>4</th>\n      <td>2021009913</td>\n      <td>919965614</td>\n      <td>GLH LADE AS</td>\n      <td>5001</td>\n      <td>TRONDHEIM</td>\n      <td>5000.0</td>\n      <td>Trøndelag Trööndelage</td>\n      <td>47.599</td>\n      <td>NaN</td>\n      <td>NaN</td>\n      <td>83134,37</td>\n      <td>2021-03-08T00:00</td>\n      <td>september-oktober2020</td>\n      <td>september-oktober2019</td>\n      <td>287994,00</td>\n      <td>2328281,00</td>\n      <td>3962232,00</td>\n      <td>0.70</td>\n      <td>989271733</td>\n      <td>VEKTE AS</td>\n    </tr>\n  </tbody>\n</table>\n</div>"
     },
     "metadata": {},
     "execution_count": 3
    }
   ],
   "source": [
    "import pandas as pd\n",
    "\n",
    "df = pd.read_csv('tilskudd.csv', sep=';')\n",
    "df.head()\n"
   ]
  },
  {
   "source": [
    "Vi ser at ... osv ..."
   ],
   "cell_type": "markdown",
   "metadata": {}
  },
  {
   "source": [
    "Det som er mest interessant å få frem verdier på er ikke med, som tilskuddsbeløp, og ulike omsetningstall. Det skyldes at disse verdiene leses inn som tekst istedenfor tall, pga komma som desimaltegn.\n"
   ],
   "cell_type": "markdown",
   "metadata": {}
  },
  {
   "cell_type": "code",
   "execution_count": 6,
   "metadata": {},
   "outputs": [
    {
     "output_type": "execute_result",
     "data": {
      "text/plain": [
       "       tilskuddsnummer  tilskuddsmottakerOrganisasjonsnummer  kommunenummer  \\\n",
       "count     9.048000e+03                          9.048000e+03    9048.000000   \n",
       "mean      2.021005e+09                          9.481143e+08    2662.386273   \n",
       "std       2.847589e+03                          4.406056e+07    1772.681531   \n",
       "min       2.021000e+09                          8.116188e+08     301.000000   \n",
       "25%       2.021003e+09                          9.168709e+08    1103.000000   \n",
       "50%       2.021005e+09                          9.579039e+08    3024.000000   \n",
       "75%       2.021007e+09                          9.880344e+08    4601.000000   \n",
       "max       2.021010e+09                          9.996654e+08    5444.000000   \n",
       "\n",
       "       fylkesnummer  naeringskode1  naeringskode2  naeringskode3  \\\n",
       "count   9012.000000    9048.000000     244.000000       9.000000   \n",
       "mean    2651.364847      58.102011      54.737045      48.966889   \n",
       "std     1772.489596      17.751790      22.596203      29.426245   \n",
       "min      300.000000       0.000000       0.000000      10.710000   \n",
       "25%     1100.000000      49.320000      47.285250      15.200000   \n",
       "50%     3000.000000      56.101000      55.202000      55.202000   \n",
       "75%     4600.000000      70.220000      70.100000      78.200000   \n",
       "max     5400.000000      96.090000      96.020000      79.909000   \n",
       "\n",
       "       justeringsfaktor  uavhengigMedsignererOrganisasjonsnummer  \n",
       "count       9048.000000                             9.048000e+03  \n",
       "mean           0.789838                             9.544368e+08  \n",
       "std            0.073522                             4.161825e+07  \n",
       "min            0.700000                             8.121884e+08  \n",
       "25%            0.700000                             9.206667e+08  \n",
       "50%            0.850000                             9.744623e+08  \n",
       "75%            0.850000                             9.875649e+08  \n",
       "max            0.850000                             9.996475e+08  "
      ],
      "text/html": "<div>\n<style scoped>\n    .dataframe tbody tr th:only-of-type {\n        vertical-align: middle;\n    }\n\n    .dataframe tbody tr th {\n        vertical-align: top;\n    }\n\n    .dataframe thead th {\n        text-align: right;\n    }\n</style>\n<table border=\"1\" class=\"dataframe\">\n  <thead>\n    <tr style=\"text-align: right;\">\n      <th></th>\n      <th>tilskuddsnummer</th>\n      <th>tilskuddsmottakerOrganisasjonsnummer</th>\n      <th>kommunenummer</th>\n      <th>fylkesnummer</th>\n      <th>naeringskode1</th>\n      <th>naeringskode2</th>\n      <th>naeringskode3</th>\n      <th>justeringsfaktor</th>\n      <th>uavhengigMedsignererOrganisasjonsnummer</th>\n    </tr>\n  </thead>\n  <tbody>\n    <tr>\n      <th>count</th>\n      <td>9.048000e+03</td>\n      <td>9.048000e+03</td>\n      <td>9048.000000</td>\n      <td>9012.000000</td>\n      <td>9048.000000</td>\n      <td>244.000000</td>\n      <td>9.000000</td>\n      <td>9048.000000</td>\n      <td>9.048000e+03</td>\n    </tr>\n    <tr>\n      <th>mean</th>\n      <td>2.021005e+09</td>\n      <td>9.481143e+08</td>\n      <td>2662.386273</td>\n      <td>2651.364847</td>\n      <td>58.102011</td>\n      <td>54.737045</td>\n      <td>48.966889</td>\n      <td>0.789838</td>\n      <td>9.544368e+08</td>\n    </tr>\n    <tr>\n      <th>std</th>\n      <td>2.847589e+03</td>\n      <td>4.406056e+07</td>\n      <td>1772.681531</td>\n      <td>1772.489596</td>\n      <td>17.751790</td>\n      <td>22.596203</td>\n      <td>29.426245</td>\n      <td>0.073522</td>\n      <td>4.161825e+07</td>\n    </tr>\n    <tr>\n      <th>min</th>\n      <td>2.021000e+09</td>\n      <td>8.116188e+08</td>\n      <td>301.000000</td>\n      <td>300.000000</td>\n      <td>0.000000</td>\n      <td>0.000000</td>\n      <td>10.710000</td>\n      <td>0.700000</td>\n      <td>8.121884e+08</td>\n    </tr>\n    <tr>\n      <th>25%</th>\n      <td>2.021003e+09</td>\n      <td>9.168709e+08</td>\n      <td>1103.000000</td>\n      <td>1100.000000</td>\n      <td>49.320000</td>\n      <td>47.285250</td>\n      <td>15.200000</td>\n      <td>0.700000</td>\n      <td>9.206667e+08</td>\n    </tr>\n    <tr>\n      <th>50%</th>\n      <td>2.021005e+09</td>\n      <td>9.579039e+08</td>\n      <td>3024.000000</td>\n      <td>3000.000000</td>\n      <td>56.101000</td>\n      <td>55.202000</td>\n      <td>55.202000</td>\n      <td>0.850000</td>\n      <td>9.744623e+08</td>\n    </tr>\n    <tr>\n      <th>75%</th>\n      <td>2.021007e+09</td>\n      <td>9.880344e+08</td>\n      <td>4601.000000</td>\n      <td>4600.000000</td>\n      <td>70.220000</td>\n      <td>70.100000</td>\n      <td>78.200000</td>\n      <td>0.850000</td>\n      <td>9.875649e+08</td>\n    </tr>\n    <tr>\n      <th>max</th>\n      <td>2.021010e+09</td>\n      <td>9.996654e+08</td>\n      <td>5444.000000</td>\n      <td>5400.000000</td>\n      <td>96.090000</td>\n      <td>96.020000</td>\n      <td>79.909000</td>\n      <td>0.850000</td>\n      <td>9.996475e+08</td>\n    </tr>\n  </tbody>\n</table>\n</div>"
     },
     "metadata": {},
     "execution_count": 6
    }
   ],
   "source": [
    "df.describe()"
   ]
  },
  {
   "cell_type": "code",
   "execution_count": 8,
   "metadata": {},
   "outputs": [
    {
     "output_type": "execute_result",
     "data": {
      "text/plain": [
       "      tilskuddsnummer  tilskuddsmottakerOrganisasjonsnummer  \\\n",
       "8611       2021000487                             988034398   \n",
       "4580       2021004916                             912434281   \n",
       "4954       2021004513                             914213363   \n",
       "1472       2021008288                             945036060   \n",
       "7523       2021001699                             918314008   \n",
       "4162       2021005364                             931735357   \n",
       "7903       2021001274                             983540538   \n",
       "5682       2021003706                             981081803   \n",
       "8768       2021000311                             990766339   \n",
       "6325       2021003004                             993528978   \n",
       "\n",
       "            tilskuddsmottakerNavn  kommunenummer       kommune  fylkesnummer  \\\n",
       "8611   GRAND EASY LIVING SOUTH AS           5402       HARSTAD        5400.0   \n",
       "4580                  ZOVENFRA AS            301          OSLO         300.0   \n",
       "4954             PORTAL TRAVEL AS           4204  KRISTIANSAND        4200.0   \n",
       "1472        MEETING MANAGEMENT AS            301          OSLO         300.0   \n",
       "7523        SJØSIDEN SPORTSPUB AS           5057        ØRLAND        5000.0   \n",
       "4162               FJORD TOURS AS           4601        BERGEN        4600.0   \n",
       "7903                    SOPALA AS           3802   HOLMESTRAND        3800.0   \n",
       "5682             KAFE VIGELAND AS            301          OSLO         300.0   \n",
       "8768                      MØRK AS            301          OSLO         300.0   \n",
       "6325  JORDBÆRPIKENE NERSTRANDA AS           5401        TROMSØ        5400.0   \n",
       "\n",
       "                                     fylke  naeringskode1  naeringskode2  \\\n",
       "8611  Troms og Finnmark Romsa ja Finnmárku         55.101            NaN   \n",
       "4580                                  Oslo         62.020            NaN   \n",
       "4954                                 Agder         79.120            NaN   \n",
       "1472                                  Oslo         79.110            NaN   \n",
       "7523                 Trøndelag Trööndelage         56.301            NaN   \n",
       "4162                              Vestland         79.120            NaN   \n",
       "7903                  Vestfold og Telemark         56.101            NaN   \n",
       "5682                                  Oslo         56.101            NaN   \n",
       "8768                                  Oslo         96.020            NaN   \n",
       "6325  Troms og Finnmark Romsa ja Finnmárku         56.101            NaN   \n",
       "\n",
       "      naeringskode3 tilskuddsbelop    tildelingsdato       tilskuddsperiode  \\\n",
       "8611            NaN     1029188,18  2021-01-19T00:00  november-desember2020   \n",
       "4580            NaN       29367,68  2021-02-04T00:00  november-desember2020   \n",
       "4954            NaN       33769,08  2021-02-03T00:00  september-oktober2020   \n",
       "1472            NaN       34960,73  2021-02-25T00:00  september-oktober2020   \n",
       "7523            NaN      171337,77  2021-01-22T00:00  november-desember2020   \n",
       "4162            NaN      379218,19  2021-02-08T00:00  november-desember2020   \n",
       "7903            NaN       82633,57  2021-02-09T00:00  november-desember2020   \n",
       "5682            NaN       84183,99  2021-01-29T00:00  september-oktober2020   \n",
       "8768            NaN       36303,79  2021-01-18T00:00  november-desember2020   \n",
       "6325            NaN       80098,35  2021-01-27T00:00  november-desember2020   \n",
       "\n",
       "      sammenligningsperiode sumFasteUungaaeligeKostanderITilskuddsperioden  \\\n",
       "8611  november-desember2019                                     1725174,00   \n",
       "4580  november-desember2019                                       87804,00   \n",
       "4954  september-oktober2019                                       59267,86   \n",
       "1472  september-oktober2019                                       60970,00   \n",
       "7523  november-desember2019                                      350892,51   \n",
       "4162  november-desember2019                                      454613,00   \n",
       "7903  november-desember2019                                      304757,00   \n",
       "5682  september-oktober2019                                      209178,00   \n",
       "8768  november-desember2019                                      121370,00   \n",
       "6325  november-desember2019                                      294198,00   \n",
       "\n",
       "     omsetningITilskuddsperiode omsetningISammenligningsperiode  \\\n",
       "8611                 2743000,00                      9200000,00   \n",
       "4580                  486601,00                       802300,00   \n",
       "4954                 1059024,00                      5692386,29   \n",
       "1472                  275771,00                      1524905,00   \n",
       "7523                  607196,03                      1426884,90   \n",
       "4162                  347430,00                     18639032,00   \n",
       "7903                 2440044,00                      3883643,00   \n",
       "5682                  400874,00                       943079,00   \n",
       "8768                  649750,00                      1002549,00   \n",
       "6325                 1378926,00                      2028745,00   \n",
       "\n",
       "      justeringsfaktor  uavhengigMedsignererOrganisasjonsnummer  \\\n",
       "8611              0.85                                997398610   \n",
       "4580              0.85                                976095057   \n",
       "4954              0.70                                992093994   \n",
       "1472              0.70                                976048695   \n",
       "7523              0.85                                959378371   \n",
       "4162              0.85                                987009713   \n",
       "7903              0.85                                983515835   \n",
       "5682              0.70                                987296828   \n",
       "8768              0.85                                971644907   \n",
       "6325              0.85                                977498651   \n",
       "\n",
       "          uavhengigMedsignererNavn  \n",
       "8611  ENTER REVISJON HÅLOGALAND AS  \n",
       "4580              WEPE REGNSKAP AS  \n",
       "4954    TET REGNSKAP OG ØKONOMI AS  \n",
       "1472                     K-TEAM AS  \n",
       "7523                           NaN  \n",
       "4162     PRICEWATERHOUSECOOPERS AS  \n",
       "7903              EVY HØGBERGET AS  \n",
       "5682        RESULTAT COMPAGNIET AS  \n",
       "8768             REGNSKAPSHUSET AS  \n",
       "6325               AST REGNSKAP AS  "
      ],
      "text/html": "<div>\n<style scoped>\n    .dataframe tbody tr th:only-of-type {\n        vertical-align: middle;\n    }\n\n    .dataframe tbody tr th {\n        vertical-align: top;\n    }\n\n    .dataframe thead th {\n        text-align: right;\n    }\n</style>\n<table border=\"1\" class=\"dataframe\">\n  <thead>\n    <tr style=\"text-align: right;\">\n      <th></th>\n      <th>tilskuddsnummer</th>\n      <th>tilskuddsmottakerOrganisasjonsnummer</th>\n      <th>tilskuddsmottakerNavn</th>\n      <th>kommunenummer</th>\n      <th>kommune</th>\n      <th>fylkesnummer</th>\n      <th>fylke</th>\n      <th>naeringskode1</th>\n      <th>naeringskode2</th>\n      <th>naeringskode3</th>\n      <th>tilskuddsbelop</th>\n      <th>tildelingsdato</th>\n      <th>tilskuddsperiode</th>\n      <th>sammenligningsperiode</th>\n      <th>sumFasteUungaaeligeKostanderITilskuddsperioden</th>\n      <th>omsetningITilskuddsperiode</th>\n      <th>omsetningISammenligningsperiode</th>\n      <th>justeringsfaktor</th>\n      <th>uavhengigMedsignererOrganisasjonsnummer</th>\n      <th>uavhengigMedsignererNavn</th>\n    </tr>\n  </thead>\n  <tbody>\n    <tr>\n      <th>8611</th>\n      <td>2021000487</td>\n      <td>988034398</td>\n      <td>GRAND EASY LIVING SOUTH AS</td>\n      <td>5402</td>\n      <td>HARSTAD</td>\n      <td>5400.0</td>\n      <td>Troms og Finnmark Romsa ja Finnmárku</td>\n      <td>55.101</td>\n      <td>NaN</td>\n      <td>NaN</td>\n      <td>1029188,18</td>\n      <td>2021-01-19T00:00</td>\n      <td>november-desember2020</td>\n      <td>november-desember2019</td>\n      <td>1725174,00</td>\n      <td>2743000,00</td>\n      <td>9200000,00</td>\n      <td>0.85</td>\n      <td>997398610</td>\n      <td>ENTER REVISJON HÅLOGALAND AS</td>\n    </tr>\n    <tr>\n      <th>4580</th>\n      <td>2021004916</td>\n      <td>912434281</td>\n      <td>ZOVENFRA AS</td>\n      <td>301</td>\n      <td>OSLO</td>\n      <td>300.0</td>\n      <td>Oslo</td>\n      <td>62.020</td>\n      <td>NaN</td>\n      <td>NaN</td>\n      <td>29367,68</td>\n      <td>2021-02-04T00:00</td>\n      <td>november-desember2020</td>\n      <td>november-desember2019</td>\n      <td>87804,00</td>\n      <td>486601,00</td>\n      <td>802300,00</td>\n      <td>0.85</td>\n      <td>976095057</td>\n      <td>WEPE REGNSKAP AS</td>\n    </tr>\n    <tr>\n      <th>4954</th>\n      <td>2021004513</td>\n      <td>914213363</td>\n      <td>PORTAL TRAVEL AS</td>\n      <td>4204</td>\n      <td>KRISTIANSAND</td>\n      <td>4200.0</td>\n      <td>Agder</td>\n      <td>79.120</td>\n      <td>NaN</td>\n      <td>NaN</td>\n      <td>33769,08</td>\n      <td>2021-02-03T00:00</td>\n      <td>september-oktober2020</td>\n      <td>september-oktober2019</td>\n      <td>59267,86</td>\n      <td>1059024,00</td>\n      <td>5692386,29</td>\n      <td>0.70</td>\n      <td>992093994</td>\n      <td>TET REGNSKAP OG ØKONOMI AS</td>\n    </tr>\n    <tr>\n      <th>1472</th>\n      <td>2021008288</td>\n      <td>945036060</td>\n      <td>MEETING MANAGEMENT AS</td>\n      <td>301</td>\n      <td>OSLO</td>\n      <td>300.0</td>\n      <td>Oslo</td>\n      <td>79.110</td>\n      <td>NaN</td>\n      <td>NaN</td>\n      <td>34960,73</td>\n      <td>2021-02-25T00:00</td>\n      <td>september-oktober2020</td>\n      <td>september-oktober2019</td>\n      <td>60970,00</td>\n      <td>275771,00</td>\n      <td>1524905,00</td>\n      <td>0.70</td>\n      <td>976048695</td>\n      <td>K-TEAM AS</td>\n    </tr>\n    <tr>\n      <th>7523</th>\n      <td>2021001699</td>\n      <td>918314008</td>\n      <td>SJØSIDEN SPORTSPUB AS</td>\n      <td>5057</td>\n      <td>ØRLAND</td>\n      <td>5000.0</td>\n      <td>Trøndelag Trööndelage</td>\n      <td>56.301</td>\n      <td>NaN</td>\n      <td>NaN</td>\n      <td>171337,77</td>\n      <td>2021-01-22T00:00</td>\n      <td>november-desember2020</td>\n      <td>november-desember2019</td>\n      <td>350892,51</td>\n      <td>607196,03</td>\n      <td>1426884,90</td>\n      <td>0.85</td>\n      <td>959378371</td>\n      <td>NaN</td>\n    </tr>\n    <tr>\n      <th>4162</th>\n      <td>2021005364</td>\n      <td>931735357</td>\n      <td>FJORD TOURS AS</td>\n      <td>4601</td>\n      <td>BERGEN</td>\n      <td>4600.0</td>\n      <td>Vestland</td>\n      <td>79.120</td>\n      <td>NaN</td>\n      <td>NaN</td>\n      <td>379218,19</td>\n      <td>2021-02-08T00:00</td>\n      <td>november-desember2020</td>\n      <td>november-desember2019</td>\n      <td>454613,00</td>\n      <td>347430,00</td>\n      <td>18639032,00</td>\n      <td>0.85</td>\n      <td>987009713</td>\n      <td>PRICEWATERHOUSECOOPERS AS</td>\n    </tr>\n    <tr>\n      <th>7903</th>\n      <td>2021001274</td>\n      <td>983540538</td>\n      <td>SOPALA AS</td>\n      <td>3802</td>\n      <td>HOLMESTRAND</td>\n      <td>3800.0</td>\n      <td>Vestfold og Telemark</td>\n      <td>56.101</td>\n      <td>NaN</td>\n      <td>NaN</td>\n      <td>82633,57</td>\n      <td>2021-02-09T00:00</td>\n      <td>november-desember2020</td>\n      <td>november-desember2019</td>\n      <td>304757,00</td>\n      <td>2440044,00</td>\n      <td>3883643,00</td>\n      <td>0.85</td>\n      <td>983515835</td>\n      <td>EVY HØGBERGET AS</td>\n    </tr>\n    <tr>\n      <th>5682</th>\n      <td>2021003706</td>\n      <td>981081803</td>\n      <td>KAFE VIGELAND AS</td>\n      <td>301</td>\n      <td>OSLO</td>\n      <td>300.0</td>\n      <td>Oslo</td>\n      <td>56.101</td>\n      <td>NaN</td>\n      <td>NaN</td>\n      <td>84183,99</td>\n      <td>2021-01-29T00:00</td>\n      <td>september-oktober2020</td>\n      <td>september-oktober2019</td>\n      <td>209178,00</td>\n      <td>400874,00</td>\n      <td>943079,00</td>\n      <td>0.70</td>\n      <td>987296828</td>\n      <td>RESULTAT COMPAGNIET AS</td>\n    </tr>\n    <tr>\n      <th>8768</th>\n      <td>2021000311</td>\n      <td>990766339</td>\n      <td>MØRK AS</td>\n      <td>301</td>\n      <td>OSLO</td>\n      <td>300.0</td>\n      <td>Oslo</td>\n      <td>96.020</td>\n      <td>NaN</td>\n      <td>NaN</td>\n      <td>36303,79</td>\n      <td>2021-01-18T00:00</td>\n      <td>november-desember2020</td>\n      <td>november-desember2019</td>\n      <td>121370,00</td>\n      <td>649750,00</td>\n      <td>1002549,00</td>\n      <td>0.85</td>\n      <td>971644907</td>\n      <td>REGNSKAPSHUSET AS</td>\n    </tr>\n    <tr>\n      <th>6325</th>\n      <td>2021003004</td>\n      <td>993528978</td>\n      <td>JORDBÆRPIKENE NERSTRANDA AS</td>\n      <td>5401</td>\n      <td>TROMSØ</td>\n      <td>5400.0</td>\n      <td>Troms og Finnmark Romsa ja Finnmárku</td>\n      <td>56.101</td>\n      <td>NaN</td>\n      <td>NaN</td>\n      <td>80098,35</td>\n      <td>2021-01-27T00:00</td>\n      <td>november-desember2020</td>\n      <td>november-desember2019</td>\n      <td>294198,00</td>\n      <td>1378926,00</td>\n      <td>2028745,00</td>\n      <td>0.85</td>\n      <td>977498651</td>\n      <td>AST REGNSKAP AS</td>\n    </tr>\n  </tbody>\n</table>\n</div>"
     },
     "metadata": {},
     "execution_count": 8
    }
   ],
   "source": [
    "df.sample(10)"
   ]
  },
  {
   "cell_type": "code",
   "execution_count": 10,
   "metadata": {},
   "outputs": [
    {
     "output_type": "execute_result",
     "data": {
      "text/plain": [
       "Index(['tilskuddsnummer', 'tilskuddsmottakerOrganisasjonsnummer',\n",
       "       'tilskuddsmottakerNavn', 'kommunenummer', 'kommune', 'fylkesnummer',\n",
       "       'fylke', 'naeringskode1', 'naeringskode2', 'naeringskode3',\n",
       "       'tilskuddsbelop', 'tildelingsdato', 'tilskuddsperiode',\n",
       "       'sammenligningsperiode',\n",
       "       'sumFasteUungaaeligeKostanderITilskuddsperioden',\n",
       "       'omsetningITilskuddsperiode', 'omsetningISammenligningsperiode',\n",
       "       'justeringsfaktor', 'uavhengigMedsignererOrganisasjonsnummer',\n",
       "       'uavhengigMedsignererNavn'],\n",
       "      dtype='object')"
      ]
     },
     "metadata": {},
     "execution_count": 10
    }
   ],
   "source": [
    "df.columns"
   ]
  },
  {
   "cell_type": "code",
   "execution_count": 18,
   "metadata": {},
   "outputs": [
    {
     "output_type": "execute_result",
     "data": {
      "text/plain": [
       "0       125488,00\n",
       "1       208706,41\n",
       "2        15008,28\n",
       "3         7950,66\n",
       "4        83134,37\n",
       "          ...    \n",
       "9043     20367,53\n",
       "9044     56709,39\n",
       "9045      9844,00\n",
       "9046     11624,90\n",
       "9047    156339,75\n",
       "Name: tilskuddsbelop, Length: 9048, dtype: object"
      ]
     },
     "metadata": {},
     "execution_count": 18
    }
   ],
   "source": [
    "df['tilskuddsbelop']\n"
   ]
  },
  {
   "source": [
    "Må lese inn Excel-fila igjen og denne gangen presiserer vi hva som er desimalskilletegnet:"
   ],
   "cell_type": "markdown",
   "metadata": {}
  },
  {
   "cell_type": "code",
   "execution_count": 9,
   "metadata": {},
   "outputs": [],
   "source": [
    "df = pd.read_csv('tilskudd.csv', sep=';', decimal=',')\n"
   ]
  },
  {
   "cell_type": "code",
   "execution_count": 10,
   "metadata": {},
   "outputs": [
    {
     "output_type": "execute_result",
     "data": {
      "text/plain": [
       "       tilskuddsnummer  tilskuddsmottakerOrganisasjonsnummer  kommunenummer  \\\n",
       "count     9.048000e+03                          9.048000e+03    9048.000000   \n",
       "mean      2.021005e+09                          9.481143e+08    2662.386273   \n",
       "std       2.847589e+03                          4.406056e+07    1772.681531   \n",
       "min       2.021000e+09                          8.116188e+08     301.000000   \n",
       "25%       2.021003e+09                          9.168709e+08    1103.000000   \n",
       "50%       2.021005e+09                          9.579039e+08    3024.000000   \n",
       "75%       2.021007e+09                          9.880344e+08    4601.000000   \n",
       "max       2.021010e+09                          9.996654e+08    5444.000000   \n",
       "\n",
       "       fylkesnummer  tilskuddsbelop  \\\n",
       "count   9012.000000    9.048000e+03   \n",
       "mean    2651.364847    1.910668e+05   \n",
       "std     1772.489596    2.037838e+06   \n",
       "min      300.000000    5.000340e+03   \n",
       "25%     1100.000000    1.718204e+04   \n",
       "50%     3000.000000    4.043306e+04   \n",
       "75%     4600.000000    1.023590e+05   \n",
       "max     5400.000000    8.188874e+07   \n",
       "\n",
       "       sumFasteUungaaeligeKostanderITilskuddsperioden  \\\n",
       "count                                    9.048000e+03   \n",
       "mean                                     4.228766e+05   \n",
       "std                                      4.467720e+06   \n",
       "min                                      6.410000e+03   \n",
       "25%                                      4.087875e+04   \n",
       "50%                                      9.759950e+04   \n",
       "75%                                      2.405640e+05   \n",
       "max                                      1.918143e+08   \n",
       "\n",
       "       omsetningITilskuddsperiode  omsetningISammenligningsperiode  \\\n",
       "count                9.048000e+03                     9.048000e+03   \n",
       "mean                 1.433093e+06                     1.424610e+07   \n",
       "std                  8.715873e+06                     1.013714e+09   \n",
       "min                  0.000000e+00                     6.000000e+03   \n",
       "25%                  1.117474e+05                     3.516660e+05   \n",
       "50%                  3.093570e+05                     9.054335e+05   \n",
       "75%                  9.022215e+05                     2.425666e+06   \n",
       "max                  4.146793e+08                     9.640463e+10   \n",
       "\n",
       "       uavhengigMedsignererOrganisasjonsnummer  \n",
       "count                             9.048000e+03  \n",
       "mean                              9.544368e+08  \n",
       "std                               4.161825e+07  \n",
       "min                               8.121884e+08  \n",
       "25%                               9.206667e+08  \n",
       "50%                               9.744623e+08  \n",
       "75%                               9.875649e+08  \n",
       "max                               9.996475e+08  "
      ],
      "text/html": "<div>\n<style scoped>\n    .dataframe tbody tr th:only-of-type {\n        vertical-align: middle;\n    }\n\n    .dataframe tbody tr th {\n        vertical-align: top;\n    }\n\n    .dataframe thead th {\n        text-align: right;\n    }\n</style>\n<table border=\"1\" class=\"dataframe\">\n  <thead>\n    <tr style=\"text-align: right;\">\n      <th></th>\n      <th>tilskuddsnummer</th>\n      <th>tilskuddsmottakerOrganisasjonsnummer</th>\n      <th>kommunenummer</th>\n      <th>fylkesnummer</th>\n      <th>tilskuddsbelop</th>\n      <th>sumFasteUungaaeligeKostanderITilskuddsperioden</th>\n      <th>omsetningITilskuddsperiode</th>\n      <th>omsetningISammenligningsperiode</th>\n      <th>uavhengigMedsignererOrganisasjonsnummer</th>\n    </tr>\n  </thead>\n  <tbody>\n    <tr>\n      <th>count</th>\n      <td>9.048000e+03</td>\n      <td>9.048000e+03</td>\n      <td>9048.000000</td>\n      <td>9012.000000</td>\n      <td>9.048000e+03</td>\n      <td>9.048000e+03</td>\n      <td>9.048000e+03</td>\n      <td>9.048000e+03</td>\n      <td>9.048000e+03</td>\n    </tr>\n    <tr>\n      <th>mean</th>\n      <td>2.021005e+09</td>\n      <td>9.481143e+08</td>\n      <td>2662.386273</td>\n      <td>2651.364847</td>\n      <td>1.910668e+05</td>\n      <td>4.228766e+05</td>\n      <td>1.433093e+06</td>\n      <td>1.424610e+07</td>\n      <td>9.544368e+08</td>\n    </tr>\n    <tr>\n      <th>std</th>\n      <td>2.847589e+03</td>\n      <td>4.406056e+07</td>\n      <td>1772.681531</td>\n      <td>1772.489596</td>\n      <td>2.037838e+06</td>\n      <td>4.467720e+06</td>\n      <td>8.715873e+06</td>\n      <td>1.013714e+09</td>\n      <td>4.161825e+07</td>\n    </tr>\n    <tr>\n      <th>min</th>\n      <td>2.021000e+09</td>\n      <td>8.116188e+08</td>\n      <td>301.000000</td>\n      <td>300.000000</td>\n      <td>5.000340e+03</td>\n      <td>6.410000e+03</td>\n      <td>0.000000e+00</td>\n      <td>6.000000e+03</td>\n      <td>8.121884e+08</td>\n    </tr>\n    <tr>\n      <th>25%</th>\n      <td>2.021003e+09</td>\n      <td>9.168709e+08</td>\n      <td>1103.000000</td>\n      <td>1100.000000</td>\n      <td>1.718204e+04</td>\n      <td>4.087875e+04</td>\n      <td>1.117474e+05</td>\n      <td>3.516660e+05</td>\n      <td>9.206667e+08</td>\n    </tr>\n    <tr>\n      <th>50%</th>\n      <td>2.021005e+09</td>\n      <td>9.579039e+08</td>\n      <td>3024.000000</td>\n      <td>3000.000000</td>\n      <td>4.043306e+04</td>\n      <td>9.759950e+04</td>\n      <td>3.093570e+05</td>\n      <td>9.054335e+05</td>\n      <td>9.744623e+08</td>\n    </tr>\n    <tr>\n      <th>75%</th>\n      <td>2.021007e+09</td>\n      <td>9.880344e+08</td>\n      <td>4601.000000</td>\n      <td>4600.000000</td>\n      <td>1.023590e+05</td>\n      <td>2.405640e+05</td>\n      <td>9.022215e+05</td>\n      <td>2.425666e+06</td>\n      <td>9.875649e+08</td>\n    </tr>\n    <tr>\n      <th>max</th>\n      <td>2.021010e+09</td>\n      <td>9.996654e+08</td>\n      <td>5444.000000</td>\n      <td>5400.000000</td>\n      <td>8.188874e+07</td>\n      <td>1.918143e+08</td>\n      <td>4.146793e+08</td>\n      <td>9.640463e+10</td>\n      <td>9.996475e+08</td>\n    </tr>\n  </tbody>\n</table>\n</div>"
     },
     "metadata": {},
     "execution_count": 10
    }
   ],
   "source": [
    "df.describe()"
   ]
  },
  {
   "cell_type": "code",
   "execution_count": 11,
   "metadata": {},
   "outputs": [
    {
     "output_type": "execute_result",
     "data": {
      "text/plain": [
       "0       125488.00\n",
       "1       208706.41\n",
       "2        15008.28\n",
       "3         7950.66\n",
       "4        83134.37\n",
       "          ...    \n",
       "9043     20367.53\n",
       "9044     56709.39\n",
       "9045      9844.00\n",
       "9046     11624.90\n",
       "9047    156339.75\n",
       "Name: tilskuddsbelop, Length: 9048, dtype: float64"
      ]
     },
     "metadata": {},
     "execution_count": 11
    }
   ],
   "source": [
    "df['tilskuddsbelop']"
   ]
  },
  {
   "cell_type": "code",
   "execution_count": 13,
   "metadata": {},
   "outputs": [
    {
     "output_type": "execute_result",
     "data": {
      "text/plain": [
       "count        9048.00\n",
       "mean       191066.80\n",
       "std       2037838.13\n",
       "min          5000.34\n",
       "25%         17182.04\n",
       "50%         40433.06\n",
       "75%        102358.97\n",
       "max      81888735.97\n",
       "Name: tilskuddsbelop, dtype: float64"
      ]
     },
     "metadata": {},
     "execution_count": 13
    }
   ],
   "source": [
    "df['tilskuddsbelop'].describe().round(2)"
   ]
  },
  {
   "cell_type": "code",
   "execution_count": 14,
   "metadata": {},
   "outputs": [
    {
     "output_type": "execute_result",
     "data": {
      "text/plain": [
       "      tilskuddsnummer  tilskuddsmottakerOrganisasjonsnummer  \\\n",
       "6215       2021003124                             982575044   \n",
       "\n",
       "     tilskuddsmottakerNavn  kommunenummer kommune  fylkesnummer fylke  \\\n",
       "6215           SUPERLIV AS            301    OSLO         300.0  Oslo   \n",
       "\n",
       "     naeringskode1 naeringskode2 naeringskode3  tilskuddsbelop  \\\n",
       "6215        47.919           NaN           NaN         5000.34   \n",
       "\n",
       "        tildelingsdato       tilskuddsperiode  sammenligningsperiode  \\\n",
       "6215  2021-01-27T00:00  november-desember2020  november-desember2019   \n",
       "\n",
       "      sumFasteUungaaeligeKostanderITilskuddsperioden  \\\n",
       "6215                                         22307.0   \n",
       "\n",
       "      omsetningITilskuddsperiode  omsetningISammenligningsperiode  \\\n",
       "6215                     56828.0                          81960.0   \n",
       "\n",
       "     justeringsfaktor  uavhengigMedsignererOrganisasjonsnummer  \\\n",
       "6215             0.85                                921575580   \n",
       "\n",
       "     uavhengigMedsignererNavn  \n",
       "6215          NUMBERS GAME AS  "
      ],
      "text/html": "<div>\n<style scoped>\n    .dataframe tbody tr th:only-of-type {\n        vertical-align: middle;\n    }\n\n    .dataframe tbody tr th {\n        vertical-align: top;\n    }\n\n    .dataframe thead th {\n        text-align: right;\n    }\n</style>\n<table border=\"1\" class=\"dataframe\">\n  <thead>\n    <tr style=\"text-align: right;\">\n      <th></th>\n      <th>tilskuddsnummer</th>\n      <th>tilskuddsmottakerOrganisasjonsnummer</th>\n      <th>tilskuddsmottakerNavn</th>\n      <th>kommunenummer</th>\n      <th>kommune</th>\n      <th>fylkesnummer</th>\n      <th>fylke</th>\n      <th>naeringskode1</th>\n      <th>naeringskode2</th>\n      <th>naeringskode3</th>\n      <th>tilskuddsbelop</th>\n      <th>tildelingsdato</th>\n      <th>tilskuddsperiode</th>\n      <th>sammenligningsperiode</th>\n      <th>sumFasteUungaaeligeKostanderITilskuddsperioden</th>\n      <th>omsetningITilskuddsperiode</th>\n      <th>omsetningISammenligningsperiode</th>\n      <th>justeringsfaktor</th>\n      <th>uavhengigMedsignererOrganisasjonsnummer</th>\n      <th>uavhengigMedsignererNavn</th>\n    </tr>\n  </thead>\n  <tbody>\n    <tr>\n      <th>6215</th>\n      <td>2021003124</td>\n      <td>982575044</td>\n      <td>SUPERLIV AS</td>\n      <td>301</td>\n      <td>OSLO</td>\n      <td>300.0</td>\n      <td>Oslo</td>\n      <td>47.919</td>\n      <td>NaN</td>\n      <td>NaN</td>\n      <td>5000.34</td>\n      <td>2021-01-27T00:00</td>\n      <td>november-desember2020</td>\n      <td>november-desember2019</td>\n      <td>22307.0</td>\n      <td>56828.0</td>\n      <td>81960.0</td>\n      <td>0.85</td>\n      <td>921575580</td>\n      <td>NUMBERS GAME AS</td>\n    </tr>\n  </tbody>\n</table>\n</div>"
     },
     "metadata": {},
     "execution_count": 14
    }
   ],
   "source": [
    "df[df['tilskuddsbelop']==5000.34]"
   ]
  },
  {
   "cell_type": "code",
   "execution_count": 15,
   "metadata": {},
   "outputs": [
    {
     "output_type": "stream",
     "name": "stdout",
     "text": [
      "Collecting requests\n",
      "  Using cached requests-2.25.1-py2.py3-none-any.whl (61 kB)\n",
      "Collecting urllib3<1.27,>=1.21.1\n",
      "  Using cached urllib3-1.26.3-py2.py3-none-any.whl (137 kB)\n",
      "Collecting certifi>=2017.4.17\n",
      "  Using cached certifi-2020.12.5-py2.py3-none-any.whl (147 kB)\n",
      "Collecting chardet<5,>=3.0.2\n",
      "  Using cached chardet-4.0.0-py2.py3-none-any.whl (178 kB)\n",
      "Collecting idna<3,>=2.5\n",
      "  Using cached idna-2.10-py2.py3-none-any.whl (58 kB)\n",
      "Installing collected packages: urllib3, idna, chardet, certifi, requests\n",
      "Successfully installed certifi-2020.12.5 chardet-4.0.0 idna-2.10 requests-2.25.1 urllib3-1.26.3\n",
      "Note: you may need to restart the kernel to use updated packages.\n"
     ]
    }
   ],
   "source": [
    "%pip install requests"
   ]
  },
  {
   "cell_type": "code",
   "execution_count": 16,
   "metadata": {},
   "outputs": [],
   "source": [
    "import requests"
   ]
  },
  {
   "source": [
    "Hent mer info om selskapet som fikk minst støtte, gjennom API-et for åpne data fra Enhetsregisteret. Først lagrer vi URL-en til API-et."
   ],
   "cell_type": "markdown",
   "metadata": {}
  },
  {
   "cell_type": "code",
   "execution_count": 17,
   "metadata": {},
   "outputs": [
    {
     "output_type": "error",
     "ename": "KeyboardInterrupt",
     "evalue": "",
     "traceback": [
      "\u001b[0;31m---------------------------------------------------------------------------\u001b[0m",
      "\u001b[0;31mKeyboardInterrupt\u001b[0m                         Traceback (most recent call last)",
      "\u001b[0;32m<ipython-input-17-12dfe2a914d3>\u001b[0m in \u001b[0;36m<module>\u001b[0;34m\u001b[0m\n\u001b[1;32m      1\u001b[0m \u001b[0mAPIURL\u001b[0m \u001b[0;34m=\u001b[0m \u001b[0;34m'https://data.brreg.no/enhetsregisteret/api/enheter/'\u001b[0m\u001b[0;34m\u001b[0m\u001b[0;34m\u001b[0m\u001b[0m\n\u001b[0;32m----> 2\u001b[0;31m \u001b[0mr\u001b[0m \u001b[0;34m=\u001b[0m \u001b[0mrequests\u001b[0m\u001b[0;34m.\u001b[0m\u001b[0mget\u001b[0m\u001b[0;34m(\u001b[0m\u001b[0mAPIURL\u001b[0m \u001b[0;34m+\u001b[0m \u001b[0;34m'982575044'\u001b[0m\u001b[0;34m)\u001b[0m\u001b[0;34m\u001b[0m\u001b[0;34m\u001b[0m\u001b[0m\n\u001b[0m\u001b[1;32m      3\u001b[0m \u001b[0mr\u001b[0m\u001b[0;34m.\u001b[0m\u001b[0mtext\u001b[0m\u001b[0;34m(\u001b[0m\u001b[0;34m)\u001b[0m\u001b[0;34m\u001b[0m\u001b[0;34m\u001b[0m\u001b[0m\n",
      "\u001b[0;32m~/projects/kurs/analyserKompordningenMedPython/.venv/lib/python3.9/site-packages/requests/api.py\u001b[0m in \u001b[0;36mget\u001b[0;34m(url, params, **kwargs)\u001b[0m\n\u001b[1;32m     74\u001b[0m \u001b[0;34m\u001b[0m\u001b[0m\n\u001b[1;32m     75\u001b[0m     \u001b[0mkwargs\u001b[0m\u001b[0;34m.\u001b[0m\u001b[0msetdefault\u001b[0m\u001b[0;34m(\u001b[0m\u001b[0;34m'allow_redirects'\u001b[0m\u001b[0;34m,\u001b[0m \u001b[0;32mTrue\u001b[0m\u001b[0;34m)\u001b[0m\u001b[0;34m\u001b[0m\u001b[0;34m\u001b[0m\u001b[0m\n\u001b[0;32m---> 76\u001b[0;31m     \u001b[0;32mreturn\u001b[0m \u001b[0mrequest\u001b[0m\u001b[0;34m(\u001b[0m\u001b[0;34m'get'\u001b[0m\u001b[0;34m,\u001b[0m \u001b[0murl\u001b[0m\u001b[0;34m,\u001b[0m \u001b[0mparams\u001b[0m\u001b[0;34m=\u001b[0m\u001b[0mparams\u001b[0m\u001b[0;34m,\u001b[0m \u001b[0;34m**\u001b[0m\u001b[0mkwargs\u001b[0m\u001b[0;34m)\u001b[0m\u001b[0;34m\u001b[0m\u001b[0;34m\u001b[0m\u001b[0m\n\u001b[0m\u001b[1;32m     77\u001b[0m \u001b[0;34m\u001b[0m\u001b[0m\n\u001b[1;32m     78\u001b[0m \u001b[0;34m\u001b[0m\u001b[0m\n",
      "\u001b[0;32m~/projects/kurs/analyserKompordningenMedPython/.venv/lib/python3.9/site-packages/requests/api.py\u001b[0m in \u001b[0;36mrequest\u001b[0;34m(method, url, **kwargs)\u001b[0m\n\u001b[1;32m     59\u001b[0m     \u001b[0;31m# cases, and look like a memory leak in others.\u001b[0m\u001b[0;34m\u001b[0m\u001b[0;34m\u001b[0m\u001b[0;34m\u001b[0m\u001b[0m\n\u001b[1;32m     60\u001b[0m     \u001b[0;32mwith\u001b[0m \u001b[0msessions\u001b[0m\u001b[0;34m.\u001b[0m\u001b[0mSession\u001b[0m\u001b[0;34m(\u001b[0m\u001b[0;34m)\u001b[0m \u001b[0;32mas\u001b[0m \u001b[0msession\u001b[0m\u001b[0;34m:\u001b[0m\u001b[0;34m\u001b[0m\u001b[0;34m\u001b[0m\u001b[0m\n\u001b[0;32m---> 61\u001b[0;31m         \u001b[0;32mreturn\u001b[0m \u001b[0msession\u001b[0m\u001b[0;34m.\u001b[0m\u001b[0mrequest\u001b[0m\u001b[0;34m(\u001b[0m\u001b[0mmethod\u001b[0m\u001b[0;34m=\u001b[0m\u001b[0mmethod\u001b[0m\u001b[0;34m,\u001b[0m \u001b[0murl\u001b[0m\u001b[0;34m=\u001b[0m\u001b[0murl\u001b[0m\u001b[0;34m,\u001b[0m \u001b[0;34m**\u001b[0m\u001b[0mkwargs\u001b[0m\u001b[0;34m)\u001b[0m\u001b[0;34m\u001b[0m\u001b[0;34m\u001b[0m\u001b[0m\n\u001b[0m\u001b[1;32m     62\u001b[0m \u001b[0;34m\u001b[0m\u001b[0m\n\u001b[1;32m     63\u001b[0m \u001b[0;34m\u001b[0m\u001b[0m\n",
      "\u001b[0;32m~/projects/kurs/analyserKompordningenMedPython/.venv/lib/python3.9/site-packages/requests/sessions.py\u001b[0m in \u001b[0;36mrequest\u001b[0;34m(self, method, url, params, data, headers, cookies, files, auth, timeout, allow_redirects, proxies, hooks, stream, verify, cert, json)\u001b[0m\n\u001b[1;32m    540\u001b[0m         }\n\u001b[1;32m    541\u001b[0m         \u001b[0msend_kwargs\u001b[0m\u001b[0;34m.\u001b[0m\u001b[0mupdate\u001b[0m\u001b[0;34m(\u001b[0m\u001b[0msettings\u001b[0m\u001b[0;34m)\u001b[0m\u001b[0;34m\u001b[0m\u001b[0;34m\u001b[0m\u001b[0m\n\u001b[0;32m--> 542\u001b[0;31m         \u001b[0mresp\u001b[0m \u001b[0;34m=\u001b[0m \u001b[0mself\u001b[0m\u001b[0;34m.\u001b[0m\u001b[0msend\u001b[0m\u001b[0;34m(\u001b[0m\u001b[0mprep\u001b[0m\u001b[0;34m,\u001b[0m \u001b[0;34m**\u001b[0m\u001b[0msend_kwargs\u001b[0m\u001b[0;34m)\u001b[0m\u001b[0;34m\u001b[0m\u001b[0;34m\u001b[0m\u001b[0m\n\u001b[0m\u001b[1;32m    543\u001b[0m \u001b[0;34m\u001b[0m\u001b[0m\n\u001b[1;32m    544\u001b[0m         \u001b[0;32mreturn\u001b[0m \u001b[0mresp\u001b[0m\u001b[0;34m\u001b[0m\u001b[0;34m\u001b[0m\u001b[0m\n",
      "\u001b[0;32m~/projects/kurs/analyserKompordningenMedPython/.venv/lib/python3.9/site-packages/requests/sessions.py\u001b[0m in \u001b[0;36msend\u001b[0;34m(self, request, **kwargs)\u001b[0m\n\u001b[1;32m    653\u001b[0m \u001b[0;34m\u001b[0m\u001b[0m\n\u001b[1;32m    654\u001b[0m         \u001b[0;31m# Send the request\u001b[0m\u001b[0;34m\u001b[0m\u001b[0;34m\u001b[0m\u001b[0;34m\u001b[0m\u001b[0m\n\u001b[0;32m--> 655\u001b[0;31m         \u001b[0mr\u001b[0m \u001b[0;34m=\u001b[0m \u001b[0madapter\u001b[0m\u001b[0;34m.\u001b[0m\u001b[0msend\u001b[0m\u001b[0;34m(\u001b[0m\u001b[0mrequest\u001b[0m\u001b[0;34m,\u001b[0m \u001b[0;34m**\u001b[0m\u001b[0mkwargs\u001b[0m\u001b[0;34m)\u001b[0m\u001b[0;34m\u001b[0m\u001b[0;34m\u001b[0m\u001b[0m\n\u001b[0m\u001b[1;32m    656\u001b[0m \u001b[0;34m\u001b[0m\u001b[0m\n\u001b[1;32m    657\u001b[0m         \u001b[0;31m# Total elapsed time of the request (approximately)\u001b[0m\u001b[0;34m\u001b[0m\u001b[0;34m\u001b[0m\u001b[0;34m\u001b[0m\u001b[0m\n",
      "\u001b[0;32m~/projects/kurs/analyserKompordningenMedPython/.venv/lib/python3.9/site-packages/requests/adapters.py\u001b[0m in \u001b[0;36msend\u001b[0;34m(self, request, stream, timeout, verify, cert, proxies)\u001b[0m\n\u001b[1;32m    437\u001b[0m         \u001b[0;32mtry\u001b[0m\u001b[0;34m:\u001b[0m\u001b[0;34m\u001b[0m\u001b[0;34m\u001b[0m\u001b[0m\n\u001b[1;32m    438\u001b[0m             \u001b[0;32mif\u001b[0m \u001b[0;32mnot\u001b[0m \u001b[0mchunked\u001b[0m\u001b[0;34m:\u001b[0m\u001b[0;34m\u001b[0m\u001b[0;34m\u001b[0m\u001b[0m\n\u001b[0;32m--> 439\u001b[0;31m                 resp = conn.urlopen(\n\u001b[0m\u001b[1;32m    440\u001b[0m                     \u001b[0mmethod\u001b[0m\u001b[0;34m=\u001b[0m\u001b[0mrequest\u001b[0m\u001b[0;34m.\u001b[0m\u001b[0mmethod\u001b[0m\u001b[0;34m,\u001b[0m\u001b[0;34m\u001b[0m\u001b[0;34m\u001b[0m\u001b[0m\n\u001b[1;32m    441\u001b[0m                     \u001b[0murl\u001b[0m\u001b[0;34m=\u001b[0m\u001b[0murl\u001b[0m\u001b[0;34m,\u001b[0m\u001b[0;34m\u001b[0m\u001b[0;34m\u001b[0m\u001b[0m\n",
      "\u001b[0;32m~/projects/kurs/analyserKompordningenMedPython/.venv/lib/python3.9/site-packages/urllib3/connectionpool.py\u001b[0m in \u001b[0;36murlopen\u001b[0;34m(self, method, url, body, headers, retries, redirect, assert_same_host, timeout, pool_timeout, release_conn, chunked, body_pos, **response_kw)\u001b[0m\n\u001b[1;32m    697\u001b[0m \u001b[0;34m\u001b[0m\u001b[0m\n\u001b[1;32m    698\u001b[0m             \u001b[0;31m# Make the request on the httplib connection object.\u001b[0m\u001b[0;34m\u001b[0m\u001b[0;34m\u001b[0m\u001b[0;34m\u001b[0m\u001b[0m\n\u001b[0;32m--> 699\u001b[0;31m             httplib_response = self._make_request(\n\u001b[0m\u001b[1;32m    700\u001b[0m                 \u001b[0mconn\u001b[0m\u001b[0;34m,\u001b[0m\u001b[0;34m\u001b[0m\u001b[0;34m\u001b[0m\u001b[0m\n\u001b[1;32m    701\u001b[0m                 \u001b[0mmethod\u001b[0m\u001b[0;34m,\u001b[0m\u001b[0;34m\u001b[0m\u001b[0;34m\u001b[0m\u001b[0m\n",
      "\u001b[0;32m~/projects/kurs/analyserKompordningenMedPython/.venv/lib/python3.9/site-packages/urllib3/connectionpool.py\u001b[0m in \u001b[0;36m_make_request\u001b[0;34m(self, conn, method, url, timeout, chunked, **httplib_request_kw)\u001b[0m\n\u001b[1;32m    380\u001b[0m         \u001b[0;31m# Trigger any extra validation we need to do.\u001b[0m\u001b[0;34m\u001b[0m\u001b[0;34m\u001b[0m\u001b[0;34m\u001b[0m\u001b[0m\n\u001b[1;32m    381\u001b[0m         \u001b[0;32mtry\u001b[0m\u001b[0;34m:\u001b[0m\u001b[0;34m\u001b[0m\u001b[0;34m\u001b[0m\u001b[0m\n\u001b[0;32m--> 382\u001b[0;31m             \u001b[0mself\u001b[0m\u001b[0;34m.\u001b[0m\u001b[0m_validate_conn\u001b[0m\u001b[0;34m(\u001b[0m\u001b[0mconn\u001b[0m\u001b[0;34m)\u001b[0m\u001b[0;34m\u001b[0m\u001b[0;34m\u001b[0m\u001b[0m\n\u001b[0m\u001b[1;32m    383\u001b[0m         \u001b[0;32mexcept\u001b[0m \u001b[0;34m(\u001b[0m\u001b[0mSocketTimeout\u001b[0m\u001b[0;34m,\u001b[0m \u001b[0mBaseSSLError\u001b[0m\u001b[0;34m)\u001b[0m \u001b[0;32mas\u001b[0m \u001b[0me\u001b[0m\u001b[0;34m:\u001b[0m\u001b[0;34m\u001b[0m\u001b[0;34m\u001b[0m\u001b[0m\n\u001b[1;32m    384\u001b[0m             \u001b[0;31m# Py2 raises this as a BaseSSLError, Py3 raises it as socket timeout.\u001b[0m\u001b[0;34m\u001b[0m\u001b[0;34m\u001b[0m\u001b[0;34m\u001b[0m\u001b[0m\n",
      "\u001b[0;32m~/projects/kurs/analyserKompordningenMedPython/.venv/lib/python3.9/site-packages/urllib3/connectionpool.py\u001b[0m in \u001b[0;36m_validate_conn\u001b[0;34m(self, conn)\u001b[0m\n\u001b[1;32m   1008\u001b[0m         \u001b[0;31m# Force connect early to allow us to validate the connection.\u001b[0m\u001b[0;34m\u001b[0m\u001b[0;34m\u001b[0m\u001b[0;34m\u001b[0m\u001b[0m\n\u001b[1;32m   1009\u001b[0m         \u001b[0;32mif\u001b[0m \u001b[0;32mnot\u001b[0m \u001b[0mgetattr\u001b[0m\u001b[0;34m(\u001b[0m\u001b[0mconn\u001b[0m\u001b[0;34m,\u001b[0m \u001b[0;34m\"sock\"\u001b[0m\u001b[0;34m,\u001b[0m \u001b[0;32mNone\u001b[0m\u001b[0;34m)\u001b[0m\u001b[0;34m:\u001b[0m  \u001b[0;31m# AppEngine might not have  `.sock`\u001b[0m\u001b[0;34m\u001b[0m\u001b[0;34m\u001b[0m\u001b[0m\n\u001b[0;32m-> 1010\u001b[0;31m             \u001b[0mconn\u001b[0m\u001b[0;34m.\u001b[0m\u001b[0mconnect\u001b[0m\u001b[0;34m(\u001b[0m\u001b[0;34m)\u001b[0m\u001b[0;34m\u001b[0m\u001b[0;34m\u001b[0m\u001b[0m\n\u001b[0m\u001b[1;32m   1011\u001b[0m \u001b[0;34m\u001b[0m\u001b[0m\n\u001b[1;32m   1012\u001b[0m         \u001b[0;32mif\u001b[0m \u001b[0;32mnot\u001b[0m \u001b[0mconn\u001b[0m\u001b[0;34m.\u001b[0m\u001b[0mis_verified\u001b[0m\u001b[0;34m:\u001b[0m\u001b[0;34m\u001b[0m\u001b[0;34m\u001b[0m\u001b[0m\n",
      "\u001b[0;32m~/projects/kurs/analyserKompordningenMedPython/.venv/lib/python3.9/site-packages/urllib3/connection.py\u001b[0m in \u001b[0;36mconnect\u001b[0;34m(self)\u001b[0m\n\u001b[1;32m    351\u001b[0m     \u001b[0;32mdef\u001b[0m \u001b[0mconnect\u001b[0m\u001b[0;34m(\u001b[0m\u001b[0mself\u001b[0m\u001b[0;34m)\u001b[0m\u001b[0;34m:\u001b[0m\u001b[0;34m\u001b[0m\u001b[0;34m\u001b[0m\u001b[0m\n\u001b[1;32m    352\u001b[0m         \u001b[0;31m# Add certificate verification\u001b[0m\u001b[0;34m\u001b[0m\u001b[0;34m\u001b[0m\u001b[0;34m\u001b[0m\u001b[0m\n\u001b[0;32m--> 353\u001b[0;31m         \u001b[0mconn\u001b[0m \u001b[0;34m=\u001b[0m \u001b[0mself\u001b[0m\u001b[0;34m.\u001b[0m\u001b[0m_new_conn\u001b[0m\u001b[0;34m(\u001b[0m\u001b[0;34m)\u001b[0m\u001b[0;34m\u001b[0m\u001b[0;34m\u001b[0m\u001b[0m\n\u001b[0m\u001b[1;32m    354\u001b[0m         \u001b[0mhostname\u001b[0m \u001b[0;34m=\u001b[0m \u001b[0mself\u001b[0m\u001b[0;34m.\u001b[0m\u001b[0mhost\u001b[0m\u001b[0;34m\u001b[0m\u001b[0;34m\u001b[0m\u001b[0m\n\u001b[1;32m    355\u001b[0m         \u001b[0mtls_in_tls\u001b[0m \u001b[0;34m=\u001b[0m \u001b[0;32mFalse\u001b[0m\u001b[0;34m\u001b[0m\u001b[0;34m\u001b[0m\u001b[0m\n",
      "\u001b[0;32m~/projects/kurs/analyserKompordningenMedPython/.venv/lib/python3.9/site-packages/urllib3/connection.py\u001b[0m in \u001b[0;36m_new_conn\u001b[0;34m(self)\u001b[0m\n\u001b[1;32m    167\u001b[0m \u001b[0;34m\u001b[0m\u001b[0m\n\u001b[1;32m    168\u001b[0m         \u001b[0;32mtry\u001b[0m\u001b[0;34m:\u001b[0m\u001b[0;34m\u001b[0m\u001b[0;34m\u001b[0m\u001b[0m\n\u001b[0;32m--> 169\u001b[0;31m             conn = connection.create_connection(\n\u001b[0m\u001b[1;32m    170\u001b[0m                 \u001b[0;34m(\u001b[0m\u001b[0mself\u001b[0m\u001b[0;34m.\u001b[0m\u001b[0m_dns_host\u001b[0m\u001b[0;34m,\u001b[0m \u001b[0mself\u001b[0m\u001b[0;34m.\u001b[0m\u001b[0mport\u001b[0m\u001b[0;34m)\u001b[0m\u001b[0;34m,\u001b[0m \u001b[0mself\u001b[0m\u001b[0;34m.\u001b[0m\u001b[0mtimeout\u001b[0m\u001b[0;34m,\u001b[0m \u001b[0;34m**\u001b[0m\u001b[0mextra_kw\u001b[0m\u001b[0;34m\u001b[0m\u001b[0;34m\u001b[0m\u001b[0m\n\u001b[1;32m    171\u001b[0m             )\n",
      "\u001b[0;32m~/projects/kurs/analyserKompordningenMedPython/.venv/lib/python3.9/site-packages/urllib3/util/connection.py\u001b[0m in \u001b[0;36mcreate_connection\u001b[0;34m(address, timeout, source_address, socket_options)\u001b[0m\n\u001b[1;32m     84\u001b[0m             \u001b[0;32mif\u001b[0m \u001b[0msource_address\u001b[0m\u001b[0;34m:\u001b[0m\u001b[0;34m\u001b[0m\u001b[0;34m\u001b[0m\u001b[0m\n\u001b[1;32m     85\u001b[0m                 \u001b[0msock\u001b[0m\u001b[0;34m.\u001b[0m\u001b[0mbind\u001b[0m\u001b[0;34m(\u001b[0m\u001b[0msource_address\u001b[0m\u001b[0;34m)\u001b[0m\u001b[0;34m\u001b[0m\u001b[0;34m\u001b[0m\u001b[0m\n\u001b[0;32m---> 86\u001b[0;31m             \u001b[0msock\u001b[0m\u001b[0;34m.\u001b[0m\u001b[0mconnect\u001b[0m\u001b[0;34m(\u001b[0m\u001b[0msa\u001b[0m\u001b[0;34m)\u001b[0m\u001b[0;34m\u001b[0m\u001b[0;34m\u001b[0m\u001b[0m\n\u001b[0m\u001b[1;32m     87\u001b[0m             \u001b[0;32mreturn\u001b[0m \u001b[0msock\u001b[0m\u001b[0;34m\u001b[0m\u001b[0;34m\u001b[0m\u001b[0m\n\u001b[1;32m     88\u001b[0m \u001b[0;34m\u001b[0m\u001b[0m\n",
      "\u001b[0;31mKeyboardInterrupt\u001b[0m: "
     ]
    }
   ],
   "source": [
    "APIURL = 'https://data.brreg.no/enhetsregisteret/api/enheter/'\n",
    "r = requests.get(APIURL + '982575044')\n",
    "r.text"
   ]
  },
  {
   "cell_type": "code",
   "execution_count": null,
   "metadata": {},
   "outputs": [],
   "source": []
  }
 ]
}